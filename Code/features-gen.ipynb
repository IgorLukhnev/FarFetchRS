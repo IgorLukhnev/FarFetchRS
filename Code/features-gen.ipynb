{
  "metadata": {
    "kernelspec": {
      "language": "python",
      "display_name": "Python 3",
      "name": "python3"
    },
    "language_info": {
      "name": "python",
      "version": "3.7.12",
      "mimetype": "text/x-python",
      "codemirror_mode": {
        "name": "ipython",
        "version": 3
      },
      "pygments_lexer": "ipython3",
      "nbconvert_exporter": "python",
      "file_extension": ".py"
    },
    "colab": {
      "name": "features-gen.ipynb",
      "provenance": []
    },
    "widgets": {
      "application/vnd.jupyter.widget-state+json": {
        "ad5e6a71e9fa438a99db1b73294bd13b": {
          "model_module": "catboost-widget",
          "model_name": "CatboostWidgetModel",
          "model_module_version": "^1.0.0",
          "state": {
            "_dom_classes": [],
            "_model_module": "catboost-widget",
            "_model_module_version": "^1.0.0",
            "_model_name": "CatboostWidgetModel",
            "_view_count": null,
            "_view_module": "catboost-widget",
            "_view_module_version": "^1.0.0",
            "_view_name": "CatboostWidgetView",
            "data": {
              "catboost_info": {
                "path": "catboost_info",
                "name": "catboost_info",
                "content": {
                  "passed_iterations": 199,
                  "total_iterations": 200,
                  "data": {
                    "iterations": [
                      {
                        "learn": [
                          2.637336039
                        ],
                        "iteration": 0,
                        "passed_time": 8.95636407,
                        "remaining_time": 1782.31645,
                        "test": [
                          2.648074262
                        ]
                      },
                      {
                        "learn": [
                          2.178593701
                        ],
                        "iteration": 1,
                        "passed_time": 13.54032243,
                        "remaining_time": 1340.491921,
                        "test": [
                          2.194679701
                        ]
                      },
                      {
                        "learn": [
                          1.847539257
                        ],
                        "iteration": 2,
                        "passed_time": 18.1004028,
                        "remaining_time": 1188.593117,
                        "test": [
                          1.870484748
                        ]
                      },
                      {
                        "learn": [
                          1.61896818
                        ],
                        "iteration": 3,
                        "passed_time": 22.59421794,
                        "remaining_time": 1107.116679,
                        "test": [
                          1.651329323
                        ]
                      },
                      {
                        "learn": [
                          1.436651736
                        ],
                        "iteration": 4,
                        "passed_time": 27.16102463,
                        "remaining_time": 1059.27996,
                        "test": [
                          1.474809805
                        ]
                      },
                      {
                        "learn": [
                          1.304556383
                        ],
                        "iteration": 5,
                        "passed_time": 31.71700698,
                        "remaining_time": 1025.516559,
                        "test": [
                          1.348376708
                        ]
                      },
                      {
                        "learn": [
                          1.198330657
                        ],
                        "iteration": 6,
                        "passed_time": 36.16359015,
                        "remaining_time": 997.0818427,
                        "test": [
                          1.248150209
                        ]
                      },
                      {
                        "learn": [
                          1.119664945
                        ],
                        "iteration": 7,
                        "passed_time": 40.66544929,
                        "remaining_time": 975.9707829,
                        "test": [
                          1.17594582
                        ]
                      },
                      {
                        "learn": [
                          1.035439358
                        ],
                        "iteration": 8,
                        "passed_time": 45.12461274,
                        "remaining_time": 957.6445592,
                        "test": [
                          1.10046524
                        ]
                      },
                      {
                        "learn": [
                          0.9673464162
                        ],
                        "iteration": 9,
                        "passed_time": 49.62223912,
                        "remaining_time": 942.8225434,
                        "test": [
                          1.038171537
                        ]
                      },
                      {
                        "learn": [
                          0.923205076
                        ],
                        "iteration": 10,
                        "passed_time": 54.063791,
                        "remaining_time": 928.9142272,
                        "test": [
                          1.000117247
                        ]
                      },
                      {
                        "learn": [
                          0.8775830731
                        ],
                        "iteration": 11,
                        "passed_time": 58.46318637,
                        "remaining_time": 915.9232531,
                        "test": [
                          0.957343284
                        ]
                      },
                      {
                        "learn": [
                          0.8261306318
                        ],
                        "iteration": 12,
                        "passed_time": 62.83343988,
                        "remaining_time": 903.834866,
                        "test": [
                          0.9103016162
                        ]
                      },
                      {
                        "learn": [
                          0.8021930938
                        ],
                        "iteration": 13,
                        "passed_time": 67.19151466,
                        "remaining_time": 892.6872662,
                        "test": [
                          0.8908614307
                        ]
                      },
                      {
                        "learn": [
                          0.7625545062
                        ],
                        "iteration": 14,
                        "passed_time": 71.70504233,
                        "remaining_time": 884.3621888,
                        "test": [
                          0.8552310458
                        ]
                      },
                      {
                        "learn": [
                          0.7191558733
                        ],
                        "iteration": 15,
                        "passed_time": 76.29741831,
                        "remaining_time": 877.4203106,
                        "test": [
                          0.8144687208
                        ]
                      },
                      {
                        "learn": [
                          0.6800782612
                        ],
                        "iteration": 16,
                        "passed_time": 80.83899481,
                        "remaining_time": 870.2080029,
                        "test": [
                          0.7779301783
                        ]
                      },
                      {
                        "learn": [
                          0.668006218
                        ],
                        "iteration": 17,
                        "passed_time": 85.25172544,
                        "remaining_time": 861.9896683,
                        "test": [
                          0.7714505935
                        ]
                      },
                      {
                        "learn": [
                          0.6424170952
                        ],
                        "iteration": 18,
                        "passed_time": 89.6562289,
                        "remaining_time": 854.093549,
                        "test": [
                          0.7500401871
                        ]
                      },
                      {
                        "learn": [
                          0.6187507152
                        ],
                        "iteration": 19,
                        "passed_time": 94.09139882,
                        "remaining_time": 846.8225893,
                        "test": [
                          0.7267647665
                        ]
                      },
                      {
                        "learn": [
                          0.6009438845
                        ],
                        "iteration": 20,
                        "passed_time": 98.58860722,
                        "remaining_time": 840.3505092,
                        "test": [
                          0.7122641141
                        ]
                      },
                      {
                        "learn": [
                          0.5946269108
                        ],
                        "iteration": 21,
                        "passed_time": 102.9517887,
                        "remaining_time": 832.9735631,
                        "test": [
                          0.7104083141
                        ]
                      },
                      {
                        "learn": [
                          0.5896482973
                        ],
                        "iteration": 22,
                        "passed_time": 107.3347937,
                        "remaining_time": 826.0112383,
                        "test": [
                          0.7101284278
                        ]
                      },
                      {
                        "learn": [
                          0.5807238861
                        ],
                        "iteration": 23,
                        "passed_time": 111.9716882,
                        "remaining_time": 821.1257136,
                        "test": [
                          0.7069943816
                        ]
                      },
                      {
                        "learn": [
                          0.5703603884
                        ],
                        "iteration": 24,
                        "passed_time": 116.9709833,
                        "remaining_time": 818.796883,
                        "test": [
                          0.7019873741
                        ]
                      },
                      {
                        "learn": [
                          0.5628723267
                        ],
                        "iteration": 25,
                        "passed_time": 121.2860484,
                        "remaining_time": 811.6835544,
                        "test": [
                          0.6976802888
                        ]
                      },
                      {
                        "learn": [
                          0.5479501554
                        ],
                        "iteration": 26,
                        "passed_time": 125.667817,
                        "remaining_time": 805.2049015,
                        "test": [
                          0.6841862128
                        ]
                      },
                      {
                        "learn": [
                          0.5361862822
                        ],
                        "iteration": 27,
                        "passed_time": 130.0139045,
                        "remaining_time": 798.6568421,
                        "test": [
                          0.674299899
                        ]
                      },
                      {
                        "learn": [
                          0.5300662608
                        ],
                        "iteration": 28,
                        "passed_time": 134.454757,
                        "remaining_time": 792.8194292,
                        "test": [
                          0.6728634832
                        ]
                      },
                      {
                        "learn": [
                          0.515475383
                        ],
                        "iteration": 29,
                        "passed_time": 139.0064945,
                        "remaining_time": 787.7034687,
                        "test": [
                          0.6620670558
                        ]
                      },
                      {
                        "learn": [
                          0.510030504
                        ],
                        "iteration": 30,
                        "passed_time": 143.3496991,
                        "remaining_time": 781.4870693,
                        "test": [
                          0.6620270269
                        ]
                      },
                      {
                        "learn": [
                          0.4988390762
                        ],
                        "iteration": 31,
                        "passed_time": 147.7726331,
                        "remaining_time": 775.8063236,
                        "test": [
                          0.6524720857
                        ]
                      },
                      {
                        "learn": [
                          0.4850826771
                        ],
                        "iteration": 32,
                        "passed_time": 152.2184807,
                        "remaining_time": 770.3177658,
                        "test": [
                          0.6426117783
                        ]
                      },
                      {
                        "learn": [
                          0.4804492456
                        ],
                        "iteration": 33,
                        "passed_time": 156.4427438,
                        "remaining_time": 763.8086901,
                        "test": [
                          0.6399333749
                        ]
                      },
                      {
                        "learn": [
                          0.4633810249
                        ],
                        "iteration": 34,
                        "passed_time": 160.7559764,
                        "remaining_time": 757.849603,
                        "test": [
                          0.6239259626
                        ]
                      },
                      {
                        "learn": [
                          0.4518952787
                        ],
                        "iteration": 35,
                        "passed_time": 165.0518258,
                        "remaining_time": 751.9027619,
                        "test": [
                          0.6111963424
                        ]
                      },
                      {
                        "learn": [
                          0.4427442011
                        ],
                        "iteration": 36,
                        "passed_time": 169.4210206,
                        "remaining_time": 746.3682801,
                        "test": [
                          0.6041293389
                        ]
                      },
                      {
                        "learn": [
                          0.4371486318
                        ],
                        "iteration": 37,
                        "passed_time": 173.9854531,
                        "remaining_time": 741.727458,
                        "test": [
                          0.6016780346
                        ]
                      },
                      {
                        "learn": [
                          0.4261089826
                        ],
                        "iteration": 38,
                        "passed_time": 178.3841797,
                        "remaining_time": 736.4064854,
                        "test": [
                          0.5914292712
                        ]
                      },
                      {
                        "learn": [
                          0.4170180666
                        ],
                        "iteration": 39,
                        "passed_time": 182.8467845,
                        "remaining_time": 731.3871381,
                        "test": [
                          0.5848695223
                        ]
                      },
                      {
                        "learn": [
                          0.4069408367
                        ],
                        "iteration": 40,
                        "passed_time": 187.27317,
                        "remaining_time": 726.2544886,
                        "test": [
                          0.5763035385
                        ]
                      },
                      {
                        "learn": [
                          0.3908197543
                        ],
                        "iteration": 41,
                        "passed_time": 191.8385274,
                        "remaining_time": 721.6782696,
                        "test": [
                          0.5607549412
                        ]
                      },
                      {
                        "learn": [
                          0.3830581108
                        ],
                        "iteration": 42,
                        "passed_time": 196.1903168,
                        "remaining_time": 716.3227844,
                        "test": [
                          0.5524580096
                        ]
                      },
                      {
                        "learn": [
                          0.3746188775
                        ],
                        "iteration": 43,
                        "passed_time": 200.5205559,
                        "remaining_time": 710.9365164,
                        "test": [
                          0.5458866982
                        ]
                      },
                      {
                        "learn": [
                          0.371000131
                        ],
                        "iteration": 44,
                        "passed_time": 204.7965138,
                        "remaining_time": 705.4102142,
                        "test": [
                          0.5454186567
                        ]
                      },
                      {
                        "learn": [
                          0.3610445361
                        ],
                        "iteration": 45,
                        "passed_time": 209.1502723,
                        "remaining_time": 700.1987377,
                        "test": [
                          0.5362650812
                        ]
                      },
                      {
                        "learn": [
                          0.3549199208
                        ],
                        "iteration": 46,
                        "passed_time": 213.4594129,
                        "remaining_time": 694.8785144,
                        "test": [
                          0.5295014274
                        ]
                      },
                      {
                        "learn": [
                          0.3491303241
                        ],
                        "iteration": 47,
                        "passed_time": 217.7383683,
                        "remaining_time": 689.5048329,
                        "test": [
                          0.5232044737
                        ]
                      },
                      {
                        "learn": [
                          0.3424396872
                        ],
                        "iteration": 48,
                        "passed_time": 222.1643429,
                        "remaining_time": 684.6288933,
                        "test": [
                          0.515895881
                        ]
                      },
                      {
                        "learn": [
                          0.3365888141
                        ],
                        "iteration": 49,
                        "passed_time": 226.5208918,
                        "remaining_time": 679.5626755,
                        "test": [
                          0.5096910887
                        ]
                      },
                      {
                        "learn": [
                          0.3325344682
                        ],
                        "iteration": 50,
                        "passed_time": 230.8996626,
                        "remaining_time": 674.5892103,
                        "test": [
                          0.5052862318
                        ]
                      },
                      {
                        "learn": [
                          0.3258420422
                        ],
                        "iteration": 51,
                        "passed_time": 235.2790977,
                        "remaining_time": 669.640509,
                        "test": [
                          0.5011045403
                        ]
                      },
                      {
                        "learn": [
                          0.3160032367
                        ],
                        "iteration": 52,
                        "passed_time": 239.7605961,
                        "remaining_time": 664.9963703,
                        "test": [
                          0.4922359905
                        ]
                      },
                      {
                        "learn": [
                          0.314362944
                        ],
                        "iteration": 53,
                        "passed_time": 244.0405215,
                        "remaining_time": 659.8132619,
                        "test": [
                          0.4913320548
                        ]
                      },
                      {
                        "learn": [
                          0.3070518588
                        ],
                        "iteration": 54,
                        "passed_time": 248.3109718,
                        "remaining_time": 654.6380166,
                        "test": [
                          0.4834852519
                        ]
                      },
                      {
                        "learn": [
                          0.3046996389
                        ],
                        "iteration": 55,
                        "passed_time": 252.6051453,
                        "remaining_time": 649.556088,
                        "test": [
                          0.4815575898
                        ]
                      },
                      {
                        "learn": [
                          0.2972216364
                        ],
                        "iteration": 56,
                        "passed_time": 257.064029,
                        "remaining_time": 644.9150201,
                        "test": [
                          0.4744029068
                        ]
                      },
                      {
                        "learn": [
                          0.2901836657
                        ],
                        "iteration": 57,
                        "passed_time": 261.3849518,
                        "remaining_time": 639.9424683,
                        "test": [
                          0.4677254845
                        ]
                      },
                      {
                        "learn": [
                          0.2855925336
                        ],
                        "iteration": 58,
                        "passed_time": 265.829869,
                        "remaining_time": 635.288331,
                        "test": [
                          0.4647176592
                        ]
                      },
                      {
                        "learn": [
                          0.2800944272
                        ],
                        "iteration": 59,
                        "passed_time": 270.1818685,
                        "remaining_time": 630.4243599,
                        "test": [
                          0.4586644714
                        ]
                      },
                      {
                        "learn": [
                          0.274509858
                        ],
                        "iteration": 60,
                        "passed_time": 274.5926729,
                        "remaining_time": 625.7111726,
                        "test": [
                          0.4520801785
                        ]
                      },
                      {
                        "learn": [
                          0.2717574721
                        ],
                        "iteration": 61,
                        "passed_time": 278.8510005,
                        "remaining_time": 620.6683559,
                        "test": [
                          0.4491159127
                        ]
                      },
                      {
                        "learn": [
                          0.2689640543
                        ],
                        "iteration": 62,
                        "passed_time": 283.148557,
                        "remaining_time": 615.735751,
                        "test": [
                          0.447168496
                        ]
                      },
                      {
                        "learn": [
                          0.2653365448
                        ],
                        "iteration": 63,
                        "passed_time": 287.5657076,
                        "remaining_time": 611.0771287,
                        "test": [
                          0.4448020935
                        ]
                      },
                      {
                        "learn": [
                          0.259411763
                        ],
                        "iteration": 64,
                        "passed_time": 292.1883407,
                        "remaining_time": 606.8527077,
                        "test": [
                          0.4393678187
                        ]
                      },
                      {
                        "learn": [
                          0.2542055999
                        ],
                        "iteration": 65,
                        "passed_time": 296.4893752,
                        "remaining_time": 601.9632768,
                        "test": [
                          0.4345976499
                        ]
                      },
                      {
                        "learn": [
                          0.2530564838
                        ],
                        "iteration": 66,
                        "passed_time": 300.7584846,
                        "remaining_time": 597.0280366,
                        "test": [
                          0.434152665
                        ]
                      },
                      {
                        "learn": [
                          0.2490689413
                        ],
                        "iteration": 67,
                        "passed_time": 305.1485322,
                        "remaining_time": 592.3471507,
                        "test": [
                          0.4320913204
                        ]
                      },
                      {
                        "learn": [
                          0.2450314216
                        ],
                        "iteration": 68,
                        "passed_time": 309.5131179,
                        "remaining_time": 587.6263544,
                        "test": [
                          0.4279949635
                        ]
                      },
                      {
                        "learn": [
                          0.2420237494
                        ],
                        "iteration": 69,
                        "passed_time": 313.8613621,
                        "remaining_time": 582.8853867,
                        "test": [
                          0.4249616523
                        ]
                      },
                      {
                        "learn": [
                          0.2403093947
                        ],
                        "iteration": 70,
                        "passed_time": 318.2053616,
                        "remaining_time": 578.1477697,
                        "test": [
                          0.4241875939
                        ]
                      },
                      {
                        "learn": [
                          0.2385714945
                        ],
                        "iteration": 71,
                        "passed_time": 323.2538397,
                        "remaining_time": 574.6734929,
                        "test": [
                          0.4223810073
                        ]
                      },
                      {
                        "learn": [
                          0.2368364113
                        ],
                        "iteration": 72,
                        "passed_time": 327.544998,
                        "remaining_time": 569.8385582,
                        "test": [
                          0.4214555607
                        ]
                      },
                      {
                        "learn": [
                          0.2361596977
                        ],
                        "iteration": 73,
                        "passed_time": 331.8798019,
                        "remaining_time": 565.0926357,
                        "test": [
                          0.4212604413
                        ]
                      },
                      {
                        "learn": [
                          0.2333675831
                        ],
                        "iteration": 74,
                        "passed_time": 336.3051348,
                        "remaining_time": 560.508558,
                        "test": [
                          0.4197134173
                        ]
                      },
                      {
                        "learn": [
                          0.2317682753
                        ],
                        "iteration": 75,
                        "passed_time": 340.6603407,
                        "remaining_time": 555.8142402,
                        "test": [
                          0.4181241271
                        ]
                      },
                      {
                        "learn": [
                          0.2286083666
                        ],
                        "iteration": 76,
                        "passed_time": 345.0583485,
                        "remaining_time": 551.1971021,
                        "test": [
                          0.4155792601
                        ]
                      },
                      {
                        "learn": [
                          0.2244811651
                        ],
                        "iteration": 77,
                        "passed_time": 349.5708084,
                        "remaining_time": 546.7645977,
                        "test": [
                          0.4124864923
                        ]
                      },
                      {
                        "learn": [
                          0.2219224841
                        ],
                        "iteration": 78,
                        "passed_time": 353.9067599,
                        "remaining_time": 542.0597208,
                        "test": [
                          0.4112733423
                        ]
                      },
                      {
                        "learn": [
                          0.219203667
                        ],
                        "iteration": 79,
                        "passed_time": 358.1969226,
                        "remaining_time": 537.2953839,
                        "test": [
                          0.4092264015
                        ]
                      },
                      {
                        "learn": [
                          0.218666242
                        ],
                        "iteration": 80,
                        "passed_time": 362.4878793,
                        "remaining_time": 532.5439214,
                        "test": [
                          0.4090145419
                        ]
                      },
                      {
                        "learn": [
                          0.2151770711
                        ],
                        "iteration": 81,
                        "passed_time": 366.9116286,
                        "remaining_time": 527.9947826,
                        "test": [
                          0.4056241598
                        ]
                      },
                      {
                        "learn": [
                          0.2123427545
                        ],
                        "iteration": 82,
                        "passed_time": 371.3485484,
                        "remaining_time": 523.4672309,
                        "test": [
                          0.402826168
                        ]
                      },
                      {
                        "learn": [
                          0.2110885507
                        ],
                        "iteration": 83,
                        "passed_time": 375.9556393,
                        "remaining_time": 519.1768352,
                        "test": [
                          0.4021477352
                        ]
                      },
                      {
                        "learn": [
                          0.2084549647
                        ],
                        "iteration": 84,
                        "passed_time": 380.3192926,
                        "remaining_time": 514.5496312,
                        "test": [
                          0.3995346133
                        ]
                      },
                      {
                        "learn": [
                          0.2068833632
                        ],
                        "iteration": 85,
                        "passed_time": 384.6346597,
                        "remaining_time": 509.864549,
                        "test": [
                          0.3986210296
                        ]
                      },
                      {
                        "learn": [
                          0.2065192329
                        ],
                        "iteration": 86,
                        "passed_time": 388.861061,
                        "remaining_time": 505.0724126,
                        "test": [
                          0.3986122967
                        ]
                      },
                      {
                        "learn": [
                          0.205654585
                        ],
                        "iteration": 87,
                        "passed_time": 395.2712588,
                        "remaining_time": 503.0725112,
                        "test": [
                          0.398509994
                        ]
                      },
                      {
                        "learn": [
                          0.2050533761
                        ],
                        "iteration": 88,
                        "passed_time": 401.7440654,
                        "remaining_time": 501.0515872,
                        "test": [
                          0.3983413176
                        ]
                      },
                      {
                        "learn": [
                          0.2032666388
                        ],
                        "iteration": 89,
                        "passed_time": 407.9913348,
                        "remaining_time": 498.6560759,
                        "test": [
                          0.3972763818
                        ]
                      },
                      {
                        "learn": [
                          0.2023257046
                        ],
                        "iteration": 90,
                        "passed_time": 412.2299204,
                        "remaining_time": 493.7699047,
                        "test": [
                          0.3971158391
                        ]
                      },
                      {
                        "learn": [
                          0.2008051187
                        ],
                        "iteration": 91,
                        "passed_time": 416.4515405,
                        "remaining_time": 488.8778954,
                        "test": [
                          0.3963372972
                        ]
                      },
                      {
                        "learn": [
                          0.2000457555
                        ],
                        "iteration": 92,
                        "passed_time": 420.6218772,
                        "remaining_time": 483.9412996,
                        "test": [
                          0.3965530322
                        ]
                      },
                      {
                        "learn": [
                          0.1983015378
                        ],
                        "iteration": 93,
                        "passed_time": 424.8806018,
                        "remaining_time": 479.1206786,
                        "test": [
                          0.3953382525
                        ]
                      },
                      {
                        "learn": [
                          0.1965437622
                        ],
                        "iteration": 94,
                        "passed_time": 429.141802,
                        "remaining_time": 474.3146233,
                        "test": [
                          0.3946319978
                        ]
                      },
                      {
                        "learn": [
                          0.1953638991
                        ],
                        "iteration": 95,
                        "passed_time": 433.439879,
                        "remaining_time": 469.5598689,
                        "test": [
                          0.3940626576
                        ]
                      },
                      {
                        "learn": [
                          0.1926705282
                        ],
                        "iteration": 96,
                        "passed_time": 437.7329741,
                        "remaining_time": 464.8092405,
                        "test": [
                          0.3913141694
                        ]
                      },
                      {
                        "learn": [
                          0.1909784408
                        ],
                        "iteration": 97,
                        "passed_time": 441.9753352,
                        "remaining_time": 460.0151448,
                        "test": [
                          0.3905438734
                        ]
                      },
                      {
                        "learn": [
                          0.1890358837
                        ],
                        "iteration": 98,
                        "passed_time": 446.3527035,
                        "remaining_time": 455.3699299,
                        "test": [
                          0.3900212636
                        ]
                      },
                      {
                        "learn": [
                          0.1877527863
                        ],
                        "iteration": 99,
                        "passed_time": 450.646119,
                        "remaining_time": 450.646119,
                        "test": [
                          0.3884586524
                        ]
                      },
                      {
                        "learn": [
                          0.1870390253
                        ],
                        "iteration": 100,
                        "passed_time": 454.8603173,
                        "remaining_time": 445.8531823,
                        "test": [
                          0.3878521449
                        ]
                      },
                      {
                        "learn": [
                          0.1864594939
                        ],
                        "iteration": 101,
                        "passed_time": 459.1204935,
                        "remaining_time": 441.1157682,
                        "test": [
                          0.3875909466
                        ]
                      },
                      {
                        "learn": [
                          0.1851581859
                        ],
                        "iteration": 102,
                        "passed_time": 463.4305049,
                        "remaining_time": 436.4345532,
                        "test": [
                          0.3860298012
                        ]
                      },
                      {
                        "learn": [
                          0.183904905
                        ],
                        "iteration": 103,
                        "passed_time": 467.6766666,
                        "remaining_time": 431.7015384,
                        "test": [
                          0.3853658053
                        ]
                      },
                      {
                        "learn": [
                          0.1835084727
                        ],
                        "iteration": 104,
                        "passed_time": 472.0186509,
                        "remaining_time": 427.0644937,
                        "test": [
                          0.3852243698
                        ]
                      },
                      {
                        "learn": [
                          0.1827320124
                        ],
                        "iteration": 105,
                        "passed_time": 476.2798393,
                        "remaining_time": 422.3613669,
                        "test": [
                          0.3849852754
                        ]
                      },
                      {
                        "learn": [
                          0.1812153885
                        ],
                        "iteration": 106,
                        "passed_time": 480.5062842,
                        "remaining_time": 417.6363031,
                        "test": [
                          0.3839804726
                        ]
                      },
                      {
                        "learn": [
                          0.1796261393
                        ],
                        "iteration": 107,
                        "passed_time": 484.7939556,
                        "remaining_time": 412.9726288,
                        "test": [
                          0.3826038287
                        ]
                      },
                      {
                        "learn": [
                          0.1788030473
                        ],
                        "iteration": 108,
                        "passed_time": 489.0039312,
                        "remaining_time": 408.2509885,
                        "test": [
                          0.3818762405
                        ]
                      },
                      {
                        "learn": [
                          0.1777131235
                        ],
                        "iteration": 109,
                        "passed_time": 493.2598947,
                        "remaining_time": 403.5762775,
                        "test": [
                          0.381741559
                        ]
                      },
                      {
                        "learn": [
                          0.1769496228
                        ],
                        "iteration": 110,
                        "passed_time": 497.5030999,
                        "remaining_time": 398.8988819,
                        "test": [
                          0.381253323
                        ]
                      },
                      {
                        "learn": [
                          0.1762161312
                        ],
                        "iteration": 111,
                        "passed_time": 501.6774365,
                        "remaining_time": 394.1751286,
                        "test": [
                          0.3806336418
                        ]
                      },
                      {
                        "learn": [
                          0.1741234174
                        ],
                        "iteration": 112,
                        "passed_time": 505.9261521,
                        "remaining_time": 389.5183649,
                        "test": [
                          0.3781515656
                        ]
                      },
                      {
                        "learn": [
                          0.1731044805
                        ],
                        "iteration": 113,
                        "passed_time": 510.1245318,
                        "remaining_time": 384.8307872,
                        "test": [
                          0.3771804668
                        ]
                      },
                      {
                        "learn": [
                          0.1726087244
                        ],
                        "iteration": 114,
                        "passed_time": 514.3611922,
                        "remaining_time": 380.1800116,
                        "test": [
                          0.376967353
                        ]
                      },
                      {
                        "learn": [
                          0.1708626295
                        ],
                        "iteration": 115,
                        "passed_time": 518.6708449,
                        "remaining_time": 375.5892325,
                        "test": [
                          0.3755046091
                        ]
                      },
                      {
                        "learn": [
                          0.1699433951
                        ],
                        "iteration": 116,
                        "passed_time": 522.9114751,
                        "remaining_time": 370.9542943,
                        "test": [
                          0.3745223537
                        ]
                      },
                      {
                        "learn": [
                          0.1686186796
                        ],
                        "iteration": 117,
                        "passed_time": 527.1223943,
                        "remaining_time": 366.3053927,
                        "test": [
                          0.3729714705
                        ]
                      },
                      {
                        "learn": [
                          0.1683396393
                        ],
                        "iteration": 118,
                        "passed_time": 531.3920771,
                        "remaining_time": 361.7038508,
                        "test": [
                          0.3728380507
                        ]
                      },
                      {
                        "learn": [
                          0.1678892958
                        ],
                        "iteration": 119,
                        "passed_time": 535.6642195,
                        "remaining_time": 357.1094797,
                        "test": [
                          0.3726366501
                        ]
                      },
                      {
                        "learn": [
                          0.1667888499
                        ],
                        "iteration": 120,
                        "passed_time": 539.9197587,
                        "remaining_time": 352.5095945,
                        "test": [
                          0.3719553023
                        ]
                      },
                      {
                        "learn": [
                          0.1659634004
                        ],
                        "iteration": 121,
                        "passed_time": 544.158399,
                        "remaining_time": 347.9045502,
                        "test": [
                          0.3722430186
                        ]
                      },
                      {
                        "learn": [
                          0.1644988166
                        ],
                        "iteration": 122,
                        "passed_time": 548.4069554,
                        "remaining_time": 343.3116713,
                        "test": [
                          0.3716051694
                        ]
                      },
                      {
                        "learn": [
                          0.1640026808
                        ],
                        "iteration": 123,
                        "passed_time": 552.5956359,
                        "remaining_time": 338.6876478,
                        "test": [
                          0.3715984005
                        ]
                      },
                      {
                        "learn": [
                          0.1628414124
                        ],
                        "iteration": 124,
                        "passed_time": 556.8804199,
                        "remaining_time": 334.1282519,
                        "test": [
                          0.3716583305
                        ]
                      },
                      {
                        "learn": [
                          0.161826849
                        ],
                        "iteration": 125,
                        "passed_time": 561.0848397,
                        "remaining_time": 329.5260169,
                        "test": [
                          0.3709850994
                        ]
                      },
                      {
                        "learn": [
                          0.1610070479
                        ],
                        "iteration": 126,
                        "passed_time": 565.3303832,
                        "remaining_time": 324.9536848,
                        "test": [
                          0.3702578571
                        ]
                      },
                      {
                        "learn": [
                          0.1600012184
                        ],
                        "iteration": 127,
                        "passed_time": 569.604828,
                        "remaining_time": 320.4027158,
                        "test": [
                          0.3697941569
                        ]
                      },
                      {
                        "learn": [
                          0.1596739262
                        ],
                        "iteration": 128,
                        "passed_time": 573.8034827,
                        "remaining_time": 315.81432,
                        "test": [
                          0.3698974881
                        ]
                      },
                      {
                        "learn": [
                          0.1590348833
                        ],
                        "iteration": 129,
                        "passed_time": 578.0452215,
                        "remaining_time": 311.2551193,
                        "test": [
                          0.3698329788
                        ]
                      },
                      {
                        "learn": [
                          0.1577196468
                        ],
                        "iteration": 130,
                        "passed_time": 582.3279412,
                        "remaining_time": 306.7223507,
                        "test": [
                          0.368752457
                        ]
                      },
                      {
                        "learn": [
                          0.1571646542
                        ],
                        "iteration": 131,
                        "passed_time": 586.5314548,
                        "remaining_time": 302.1525676,
                        "test": [
                          0.3683302101
                        ]
                      },
                      {
                        "learn": [
                          0.1564797323
                        ],
                        "iteration": 132,
                        "passed_time": 590.7348138,
                        "remaining_time": 297.5882145,
                        "test": [
                          0.368071056
                        ]
                      },
                      {
                        "learn": [
                          0.1543967295
                        ],
                        "iteration": 133,
                        "passed_time": 594.9466678,
                        "remaining_time": 293.0334334,
                        "test": [
                          0.3659605565
                        ]
                      },
                      {
                        "learn": [
                          0.1533228498
                        ],
                        "iteration": 134,
                        "passed_time": 599.1647682,
                        "remaining_time": 288.4867403,
                        "test": [
                          0.3657471
                        ]
                      },
                      {
                        "learn": [
                          0.1527609691
                        ],
                        "iteration": 135,
                        "passed_time": 603.295148,
                        "remaining_time": 283.903599,
                        "test": [
                          0.3654093053
                        ]
                      },
                      {
                        "learn": [
                          0.1506013581
                        ],
                        "iteration": 136,
                        "passed_time": 607.6822608,
                        "remaining_time": 279.4451272,
                        "test": [
                          0.3635893698
                        ]
                      },
                      {
                        "learn": [
                          0.1496770033
                        ],
                        "iteration": 137,
                        "passed_time": 611.9578447,
                        "remaining_time": 274.9375824,
                        "test": [
                          0.3631529825
                        ]
                      },
                      {
                        "learn": [
                          0.1485976466
                        ],
                        "iteration": 138,
                        "passed_time": 616.2062138,
                        "remaining_time": 270.421432,
                        "test": [
                          0.3622478276
                        ]
                      },
                      {
                        "learn": [
                          0.1480681147
                        ],
                        "iteration": 139,
                        "passed_time": 620.4130439,
                        "remaining_time": 265.8913045,
                        "test": [
                          0.3614260698
                        ]
                      },
                      {
                        "learn": [
                          0.1470576702
                        ],
                        "iteration": 140,
                        "passed_time": 624.5905546,
                        "remaining_time": 261.3534945,
                        "test": [
                          0.360736949
                        ]
                      },
                      {
                        "learn": [
                          0.1459173563
                        ],
                        "iteration": 141,
                        "passed_time": 628.8689976,
                        "remaining_time": 256.8619849,
                        "test": [
                          0.3604014476
                        ]
                      },
                      {
                        "learn": [
                          0.1456538849
                        ],
                        "iteration": 142,
                        "passed_time": 633.0125983,
                        "remaining_time": 252.319707,
                        "test": [
                          0.3602585994
                        ]
                      },
                      {
                        "learn": [
                          0.1449924739
                        ],
                        "iteration": 143,
                        "passed_time": 637.2379241,
                        "remaining_time": 247.8147482,
                        "test": [
                          0.3600813945
                        ]
                      },
                      {
                        "learn": [
                          0.1447330176
                        ],
                        "iteration": 144,
                        "passed_time": 641.4818403,
                        "remaining_time": 243.320698,
                        "test": [
                          0.360175409
                        ]
                      },
                      {
                        "learn": [
                          0.1438577926
                        ],
                        "iteration": 145,
                        "passed_time": 645.7686449,
                        "remaining_time": 238.8459372,
                        "test": [
                          0.3598558553
                        ]
                      },
                      {
                        "learn": [
                          0.1425050659
                        ],
                        "iteration": 146,
                        "passed_time": 650.0865764,
                        "remaining_time": 234.3849561,
                        "test": [
                          0.3584408831
                        ]
                      },
                      {
                        "learn": [
                          0.1420237085
                        ],
                        "iteration": 147,
                        "passed_time": 654.2654282,
                        "remaining_time": 229.8770423,
                        "test": [
                          0.3582642513
                        ]
                      },
                      {
                        "learn": [
                          0.1415487425
                        ],
                        "iteration": 148,
                        "passed_time": 658.5116039,
                        "remaining_time": 225.3965892,
                        "test": [
                          0.3581298156
                        ]
                      },
                      {
                        "learn": [
                          0.1409851594
                        ],
                        "iteration": 149,
                        "passed_time": 662.6910736,
                        "remaining_time": 220.8970245,
                        "test": [
                          0.3576075897
                        ]
                      },
                      {
                        "learn": [
                          0.1399138943
                        ],
                        "iteration": 150,
                        "passed_time": 666.8743924,
                        "remaining_time": 216.4029485,
                        "test": [
                          0.3568702969
                        ]
                      },
                      {
                        "learn": [
                          0.138466864
                        ],
                        "iteration": 151,
                        "passed_time": 671.3041121,
                        "remaining_time": 211.9907722,
                        "test": [
                          0.3557963194
                        ]
                      },
                      {
                        "learn": [
                          0.1380264836
                        ],
                        "iteration": 152,
                        "passed_time": 675.4227695,
                        "remaining_time": 207.4828116,
                        "test": [
                          0.3555497969
                        ]
                      },
                      {
                        "learn": [
                          0.1372581139
                        ],
                        "iteration": 153,
                        "passed_time": 679.5824726,
                        "remaining_time": 202.9921671,
                        "test": [
                          0.355214475
                        ]
                      },
                      {
                        "learn": [
                          0.135907975
                        ],
                        "iteration": 154,
                        "passed_time": 683.7685291,
                        "remaining_time": 198.5134439,
                        "test": [
                          0.3542575688
                        ]
                      },
                      {
                        "learn": [
                          0.1346229682
                        ],
                        "iteration": 155,
                        "passed_time": 687.9795792,
                        "remaining_time": 194.0455223,
                        "test": [
                          0.35295193
                        ]
                      },
                      {
                        "learn": [
                          0.1335055521
                        ],
                        "iteration": 156,
                        "passed_time": 692.2064647,
                        "remaining_time": 189.5852101,
                        "test": [
                          0.3522819073
                        ]
                      },
                      {
                        "learn": [
                          0.1323537514
                        ],
                        "iteration": 157,
                        "passed_time": 696.5190776,
                        "remaining_time": 185.1506409,
                        "test": [
                          0.3515080275
                        ]
                      },
                      {
                        "learn": [
                          0.1315674434
                        ],
                        "iteration": 158,
                        "passed_time": 700.7640242,
                        "remaining_time": 180.7001572,
                        "test": [
                          0.3503609609
                        ]
                      },
                      {
                        "learn": [
                          0.1306633866
                        ],
                        "iteration": 159,
                        "passed_time": 705.0292121,
                        "remaining_time": 176.257303,
                        "test": [
                          0.3498916876
                        ]
                      },
                      {
                        "learn": [
                          0.1297335593
                        ],
                        "iteration": 160,
                        "passed_time": 709.2748439,
                        "remaining_time": 171.8119187,
                        "test": [
                          0.3492547752
                        ]
                      },
                      {
                        "learn": [
                          0.1287577691
                        ],
                        "iteration": 161,
                        "passed_time": 713.6295335,
                        "remaining_time": 167.3945819,
                        "test": [
                          0.348736096
                        ]
                      },
                      {
                        "learn": [
                          0.1285354532
                        ],
                        "iteration": 162,
                        "passed_time": 717.794377,
                        "remaining_time": 162.9349199,
                        "test": [
                          0.3485744054
                        ]
                      },
                      {
                        "learn": [
                          0.1277220661
                        ],
                        "iteration": 163,
                        "passed_time": 721.9818104,
                        "remaining_time": 158.483812,
                        "test": [
                          0.3487336577
                        ]
                      },
                      {
                        "learn": [
                          0.1275718114
                        ],
                        "iteration": 164,
                        "passed_time": 726.1705049,
                        "remaining_time": 154.0361677,
                        "test": [
                          0.3487699879
                        ]
                      },
                      {
                        "learn": [
                          0.1273520215
                        ],
                        "iteration": 165,
                        "passed_time": 730.3416333,
                        "remaining_time": 149.5880454,
                        "test": [
                          0.3486470028
                        ]
                      },
                      {
                        "learn": [
                          0.1267796471
                        ],
                        "iteration": 166,
                        "passed_time": 734.5679835,
                        "remaining_time": 145.1541524,
                        "test": [
                          0.3483665537
                        ]
                      },
                      {
                        "learn": [
                          0.1264836635
                        ],
                        "iteration": 167,
                        "passed_time": 738.7538487,
                        "remaining_time": 140.7150188,
                        "test": [
                          0.3485917371
                        ]
                      },
                      {
                        "learn": [
                          0.1262924161
                        ],
                        "iteration": 168,
                        "passed_time": 742.9898124,
                        "remaining_time": 136.2880721,
                        "test": [
                          0.3485663281
                        ]
                      },
                      {
                        "learn": [
                          0.1255556221
                        ],
                        "iteration": 169,
                        "passed_time": 747.2505123,
                        "remaining_time": 131.8677375,
                        "test": [
                          0.3481279387
                        ]
                      },
                      {
                        "learn": [
                          0.1241115156
                        ],
                        "iteration": 170,
                        "passed_time": 751.5841723,
                        "remaining_time": 127.4616432,
                        "test": [
                          0.3466242228
                        ]
                      },
                      {
                        "learn": [
                          0.1238474739
                        ],
                        "iteration": 171,
                        "passed_time": 755.7547431,
                        "remaining_time": 123.0298419,
                        "test": [
                          0.3464463965
                        ]
                      },
                      {
                        "learn": [
                          0.1233126242
                        ],
                        "iteration": 172,
                        "passed_time": 759.9996636,
                        "remaining_time": 118.6126643,
                        "test": [
                          0.3462159597
                        ]
                      },
                      {
                        "learn": [
                          0.1219011701
                        ],
                        "iteration": 173,
                        "passed_time": 764.3066007,
                        "remaining_time": 114.2067334,
                        "test": [
                          0.3446003588
                        ]
                      },
                      {
                        "learn": [
                          0.1213431475
                        ],
                        "iteration": 174,
                        "passed_time": 768.5100585,
                        "remaining_time": 109.7871512,
                        "test": [
                          0.3439045551
                        ]
                      },
                      {
                        "learn": [
                          0.120782275
                        ],
                        "iteration": 175,
                        "passed_time": 772.8898293,
                        "remaining_time": 105.3940676,
                        "test": [
                          0.3432267112
                        ]
                      },
                      {
                        "learn": [
                          0.1205818204
                        ],
                        "iteration": 176,
                        "passed_time": 777.0801319,
                        "remaining_time": 100.9765143,
                        "test": [
                          0.3432368113
                        ]
                      },
                      {
                        "learn": [
                          0.1194107932
                        ],
                        "iteration": 177,
                        "passed_time": 781.4461409,
                        "remaining_time": 96.5832309,
                        "test": [
                          0.3422342376
                        ]
                      },
                      {
                        "learn": [
                          0.1176689662
                        ],
                        "iteration": 178,
                        "passed_time": 785.7985775,
                        "remaining_time": 92.18865993,
                        "test": [
                          0.3397757375
                        ]
                      },
                      {
                        "learn": [
                          0.1168257471
                        ],
                        "iteration": 179,
                        "passed_time": 790.1091498,
                        "remaining_time": 87.78990553,
                        "test": [
                          0.3393794058
                        ]
                      },
                      {
                        "learn": [
                          0.1163362388
                        ],
                        "iteration": 180,
                        "passed_time": 794.3014199,
                        "remaining_time": 83.37970706,
                        "test": [
                          0.3391824484
                        ]
                      },
                      {
                        "learn": [
                          0.1161812165
                        ],
                        "iteration": 181,
                        "passed_time": 798.4687015,
                        "remaining_time": 78.96943202,
                        "test": [
                          0.3391725464
                        ]
                      },
                      {
                        "learn": [
                          0.1155502806
                        ],
                        "iteration": 182,
                        "passed_time": 802.6731063,
                        "remaining_time": 74.56526124,
                        "test": [
                          0.3387851074
                        ]
                      },
                      {
                        "learn": [
                          0.1145172175
                        ],
                        "iteration": 183,
                        "passed_time": 806.9431885,
                        "remaining_time": 70.16897292,
                        "test": [
                          0.3383002405
                        ]
                      },
                      {
                        "learn": [
                          0.1138740381
                        ],
                        "iteration": 184,
                        "passed_time": 811.0935794,
                        "remaining_time": 65.76434427,
                        "test": [
                          0.3375066954
                        ]
                      },
                      {
                        "learn": [
                          0.1133981089
                        ],
                        "iteration": 185,
                        "passed_time": 815.2986468,
                        "remaining_time": 61.36656481,
                        "test": [
                          0.337199123
                        ]
                      },
                      {
                        "learn": [
                          0.1130489984
                        ],
                        "iteration": 186,
                        "passed_time": 819.4787564,
                        "remaining_time": 56.9691114,
                        "test": [
                          0.337352851
                        ]
                      },
                      {
                        "learn": [
                          0.1126507751
                        ],
                        "iteration": 187,
                        "passed_time": 823.6506815,
                        "remaining_time": 52.57344775,
                        "test": [
                          0.337372715
                        ]
                      },
                      {
                        "learn": [
                          0.1122906784
                        ],
                        "iteration": 188,
                        "passed_time": 827.8934461,
                        "remaining_time": 48.18427464,
                        "test": [
                          0.337156766
                        ]
                      },
                      {
                        "learn": [
                          0.1111463728
                        ],
                        "iteration": 189,
                        "passed_time": 832.241541,
                        "remaining_time": 43.80218637,
                        "test": [
                          0.3357819556
                        ]
                      },
                      {
                        "learn": [
                          0.110960708
                        ],
                        "iteration": 190,
                        "passed_time": 836.4766056,
                        "remaining_time": 39.41512801,
                        "test": [
                          0.3358012712
                        ]
                      },
                      {
                        "learn": [
                          0.1102331924
                        ],
                        "iteration": 191,
                        "passed_time": 840.6723493,
                        "remaining_time": 35.02801456,
                        "test": [
                          0.335147477
                        ]
                      },
                      {
                        "learn": [
                          0.1097245669
                        ],
                        "iteration": 192,
                        "passed_time": 844.9505598,
                        "remaining_time": 30.64587522,
                        "test": [
                          0.3351157408
                        ]
                      },
                      {
                        "learn": [
                          0.108926001
                        ],
                        "iteration": 193,
                        "passed_time": 849.2252527,
                        "remaining_time": 26.26469854,
                        "test": [
                          0.3340642064
                        ]
                      },
                      {
                        "learn": [
                          0.1086816874
                        ],
                        "iteration": 194,
                        "passed_time": 853.3762176,
                        "remaining_time": 21.88144148,
                        "test": [
                          0.3337554188
                        ]
                      },
                      {
                        "learn": [
                          0.1073056223
                        ],
                        "iteration": 195,
                        "passed_time": 857.7805796,
                        "remaining_time": 17.50572611,
                        "test": [
                          0.3334901237
                        ]
                      },
                      {
                        "learn": [
                          0.1067284686
                        ],
                        "iteration": 196,
                        "passed_time": 862.0317493,
                        "remaining_time": 13.12738704,
                        "test": [
                          0.3328136861
                        ]
                      },
                      {
                        "learn": [
                          0.1060025874
                        ],
                        "iteration": 197,
                        "passed_time": 866.3450885,
                        "remaining_time": 8.75096049,
                        "test": [
                          0.3323941978
                        ]
                      },
                      {
                        "learn": [
                          0.1053176262
                        ],
                        "iteration": 198,
                        "passed_time": 870.5947288,
                        "remaining_time": 4.374847883,
                        "test": [
                          0.331768994
                        ]
                      },
                      {
                        "learn": [
                          0.1045804041
                        ],
                        "iteration": 199,
                        "passed_time": 874.8871789,
                        "remaining_time": 0,
                        "test": [
                          0.3311842863
                        ]
                      }
                    ],
                    "meta": {
                      "test_sets": [
                        "test"
                      ],
                      "test_metrics": [
                        {
                          "best_value": "Min",
                          "name": "MultiClass"
                        }
                      ],
                      "learn_metrics": [
                        {
                          "best_value": "Min",
                          "name": "MultiClass"
                        }
                      ],
                      "launch_mode": "Train",
                      "parameters": "",
                      "iteration_count": 200,
                      "learn_sets": [
                        "learn"
                      ],
                      "name": "experiment"
                    }
                  }
                }
              }
            },
            "layout": "IPY_MODEL_8df008df79a64d7aa3190e8ec867af81"
          }
        }
      }
    }
  },
  "nbformat_minor": 0,
  "nbformat": 4,
  "cells": [
    {
      "cell_type": "markdown",
      "source": [
        "# Проект команды 306 - Проектный семинар - №4 (Генерация классов)\n",
        "\n",
        "Состав команды:\n",
        "\n",
        "1. Алиев Хайрутдин Аллилович\n",
        "2. Зубов Дмитрий Сергеевич\n",
        "3. Курбанов Иван Сергеевич\n",
        "4. Лухнев Игорь Дмитриевич\n",
        "5. Шишков Максим Алексеевич\n",
        "\n",
        "## TL;DR\n",
        "---\n",
        "В данном документе мы проводим применение различных предобученных нейронных сетей для извлечения признаков из картинок.\n",
        "\n",
        "---\n",
        "\n",
        "## Предварительные зависимости\n",
        "В следующей ячейке будут установлены необходимые библиотеки через `pip`"
      ],
      "metadata": {
        "id": "QfXnBpG-YzLv"
      }
    },
    {
      "cell_type": "code",
      "source": [
        "# Use !pip install -q [your-package]\n",
        "!pip install -q PyGithub\n",
        "!pip install -q fsspec\n",
        "!pip install -q catboost"
      ],
      "metadata": {
        "execution": {
          "iopub.status.busy": "2022-03-22T16:05:18.059540Z",
          "iopub.execute_input": "2022-03-22T16:05:18.059950Z",
          "iopub.status.idle": "2022-03-22T16:05:50.886572Z",
          "shell.execute_reply.started": "2022-03-22T16:05:18.059856Z",
          "shell.execute_reply": "2022-03-22T16:05:50.885172Z"
        },
        "trusted": true,
        "colab": {
          "base_uri": "https://localhost:8080/"
        },
        "id": "bjgJwSkZYzLz",
        "outputId": "f27bd9d1-8209-4a26-e244-2ebb306d72c6"
      },
      "execution_count": 1,
      "outputs": [
        {
          "output_type": "stream",
          "name": "stdout",
          "text": [
            "\u001b[K     |████████████████████████████████| 291 kB 5.2 MB/s \n",
            "\u001b[K     |████████████████████████████████| 856 kB 40.1 MB/s \n",
            "\u001b[K     |████████████████████████████████| 134 kB 4.7 MB/s \n",
            "\u001b[K     |████████████████████████████████| 76.1 MB 51 kB/s \n",
            "\u001b[?25h"
          ]
        }
      ]
    },
    {
      "cell_type": "markdown",
      "source": [
        "Следующая ячейка для импорта установленных пакетов в проект"
      ],
      "metadata": {
        "id": "7gy9lZ1cYzL0"
      }
    },
    {
      "cell_type": "code",
      "source": [
        "# use aliases for long names\n",
        "import os\n",
        "import requests\n",
        "from github import Github as gh\n",
        "from getpass import getpass\n",
        "import re\n",
        "import pandas as pd\n",
        "import numpy as np\n",
        "import base64\n",
        "from io import StringIO\n",
        "from pathlib import Path\n",
        "from tqdm.auto import tqdm\n",
        "from sklearn.cluster import DBSCAN\n",
        "from sklearn.cluster import KMeans\n",
        "import seaborn as sns\n",
        "from matplotlib import pyplot as plt\n",
        "from sklearn.preprocessing import StandardScaler as ss\n",
        "from sklearn.decomposition import PCA\n",
        "from catboost import CatBoostClassifier\n",
        "from sklearn.model_selection import train_test_split\n",
        "from sklearn.model_selection import StratifiedShuffleSplit\n",
        "from sklearn.metrics import classification_report"
      ],
      "metadata": {
        "execution": {
          "iopub.status.busy": "2022-03-22T16:05:50.888451Z",
          "iopub.execute_input": "2022-03-22T16:05:50.888690Z",
          "iopub.status.idle": "2022-03-22T16:05:52.754497Z",
          "shell.execute_reply.started": "2022-03-22T16:05:50.888660Z",
          "shell.execute_reply": "2022-03-22T16:05:52.753338Z"
        },
        "trusted": true,
        "id": "T_kWLxh5YzL1"
      },
      "execution_count": 41,
      "outputs": []
    },
    {
      "cell_type": "markdown",
      "source": [
        "## Загрузка данных \n",
        "\n",
        "Запросим у пользователя креды для подключения к репозиторию"
      ],
      "metadata": {
        "id": "VEvVJLTHYzL1"
      }
    },
    {
      "cell_type": "code",
      "source": [
        "login = input('Enter your login: ')\n",
        "password = getpass('Enter the secret value: ')"
      ],
      "metadata": {
        "execution": {
          "iopub.status.busy": "2022-03-22T04:39:01.143376Z",
          "iopub.execute_input": "2022-03-22T04:39:01.143922Z",
          "iopub.status.idle": "2022-03-22T04:39:27.146225Z",
          "shell.execute_reply.started": "2022-03-22T04:39:01.143876Z",
          "shell.execute_reply": "2022-03-22T04:39:27.145228Z"
        },
        "trusted": true,
        "id": "iZZ-ZnpgYzL2"
      },
      "execution_count": null,
      "outputs": []
    },
    {
      "cell_type": "markdown",
      "source": [
        "Подключимся к репозиторию"
      ],
      "metadata": {
        "id": "lYBCY9KVYzL2"
      }
    },
    {
      "cell_type": "code",
      "source": [
        "repo_path = \"IgorLukhnev/FarFetchRS\"\n",
        "# Запишем токен в переменную окружения\n",
        "g_token = os.getenv('GITHUB_TOKEN', password)\n",
        "# Вополним коннект\n",
        "g = gh(g_token)\n",
        "# Подключимся к репо\n",
        "repo = g.get_repo(repo_path)"
      ],
      "metadata": {
        "execution": {
          "iopub.status.busy": "2022-03-22T04:39:29.811861Z",
          "iopub.execute_input": "2022-03-22T04:39:29.812125Z",
          "iopub.status.idle": "2022-03-22T04:39:30.166317Z",
          "shell.execute_reply.started": "2022-03-22T04:39:29.812097Z",
          "shell.execute_reply": "2022-03-22T04:39:30.165167Z"
        },
        "trusted": true,
        "id": "k824vSxfYzL3"
      },
      "execution_count": null,
      "outputs": []
    },
    {
      "cell_type": "markdown",
      "source": [
        "Данные будем загружать на основе датасета, подготовленного на этапе EDA"
      ],
      "metadata": {
        "id": "KN4zk7ZkYzL4"
      }
    },
    {
      "cell_type": "code",
      "source": [
        "dir_path = 'Data/Feature gen'\n",
        "data_path = 'Data/Feature gen/data_image_embedding.csv'\n",
        "contents = repo.get_contents(dir_path)\n",
        "for x in contents:\n",
        "    if x.path == data_path:\n",
        "        data = pd.read_csv(StringIO(base64.b64decode(repo.get_git_blob(x.sha).content).decode(\"utf8\")))\n",
        "\n",
        "data.head()"
      ],
      "metadata": {
        "execution": {
          "iopub.status.busy": "2022-03-22T04:42:04.003299Z",
          "iopub.execute_input": "2022-03-22T04:42:04.003665Z",
          "iopub.status.idle": "2022-03-22T04:42:11.967474Z",
          "shell.execute_reply.started": "2022-03-22T04:42:04.003631Z",
          "shell.execute_reply": "2022-03-22T04:42:11.966511Z"
        },
        "trusted": true,
        "id": "I66A4RhjYzL4"
      },
      "execution_count": null,
      "outputs": []
    },
    {
      "cell_type": "markdown",
      "source": [
        "## Подготовка данных"
      ],
      "metadata": {
        "id": "Svg3CbTjYzL5"
      }
    },
    {
      "cell_type": "markdown",
      "source": [
        "Для использования алгоритма кластеризации, нам необходимо сделать несколько вещей:\n",
        "1. Удалить столбцы, не несущие важной информации\n",
        "2. Обработать текстовые признаки (кодирование)\n",
        "\n",
        "Начнем с шага 1."
      ],
      "metadata": {
        "id": "CFz77720YzL5"
      }
    },
    {
      "cell_type": "code",
      "source": [
        "to_drop = ['Short_descr', 'img', 'cat', 'category1', 'sex', 'check']\n",
        "\n",
        "data = data.drop(columns=to_drop)"
      ],
      "metadata": {
        "execution": {
          "iopub.status.busy": "2022-03-22T04:48:31.273549Z",
          "iopub.execute_input": "2022-03-22T04:48:31.273901Z",
          "iopub.status.idle": "2022-03-22T04:48:31.293823Z",
          "shell.execute_reply.started": "2022-03-22T04:48:31.273865Z",
          "shell.execute_reply": "2022-03-22T04:48:31.292905Z"
        },
        "trusted": true,
        "id": "efk60yW9YzL5"
      },
      "execution_count": null,
      "outputs": []
    },
    {
      "cell_type": "markdown",
      "source": [
        "Окей, простое сделали, теперь нужно продумать, что делаем с текстовыми значениями:\n",
        "1. ffcollection -> тут кажется прикольным сделать подобие OHE с дополнительным исследованием\n",
        "2. Название брэнда (по-хорошему, ради эксперимента сначала выкинем данный признак)\n",
        "3. Доступные размеры - тут точно OHE"
      ],
      "metadata": {
        "id": "4rmrYtwfYzL6"
      }
    },
    {
      "cell_type": "code",
      "source": [
        "# Временно уберем из данных информацию о брэнде\n",
        "data_hidden = data.drop(columns=['Brand'])"
      ],
      "metadata": {
        "execution": {
          "iopub.status.busy": "2022-03-22T04:52:40.198292Z",
          "iopub.execute_input": "2022-03-22T04:52:40.198583Z",
          "iopub.status.idle": "2022-03-22T04:52:40.217729Z",
          "shell.execute_reply.started": "2022-03-22T04:52:40.198554Z",
          "shell.execute_reply": "2022-03-22T04:52:40.216694Z"
        },
        "trusted": true,
        "id": "PWqSQTGkYzL6"
      },
      "execution_count": null,
      "outputs": []
    },
    {
      "cell_type": "markdown",
      "source": [
        "Теперь посмотрим на распределение значений в столбце ffcollection"
      ],
      "metadata": {
        "id": "aam3nj4fYzL6"
      }
    },
    {
      "cell_type": "code",
      "source": [
        "fig, ax = plt.subplots(figsize=(10, 5))\n",
        "sns.countplot(data=data_hidden, x='ffcollection')\n",
        "plt.tight_layout()"
      ],
      "metadata": {
        "execution": {
          "iopub.status.busy": "2022-03-22T04:56:32.659632Z",
          "iopub.execute_input": "2022-03-22T04:56:32.659938Z",
          "iopub.status.idle": "2022-03-22T04:56:33.081566Z",
          "shell.execute_reply.started": "2022-03-22T04:56:32.659905Z",
          "shell.execute_reply": "2022-03-22T04:56:33.080665Z"
        },
        "trusted": true,
        "id": "j3TY6TTLYzL7"
      },
      "execution_count": null,
      "outputs": []
    },
    {
      "cell_type": "markdown",
      "source": [
        "Для unknown будет 0 во всех столбцах - для остальных 1 там, где соответсвтует"
      ],
      "metadata": {
        "id": "_IxI9jtbYzL7"
      }
    },
    {
      "cell_type": "code",
      "source": [
        "for col in data_hidden['ffcollection'].value_counts().index:\n",
        "    if col != 'unknown':\n",
        "        data_hidden[f'col_{col}'] = (data_hidden['ffcollection'] == col).astype(int)"
      ],
      "metadata": {
        "execution": {
          "iopub.status.busy": "2022-03-22T05:02:17.555571Z",
          "iopub.execute_input": "2022-03-22T05:02:17.556513Z",
          "iopub.status.idle": "2022-03-22T05:02:17.579068Z",
          "shell.execute_reply.started": "2022-03-22T05:02:17.556464Z",
          "shell.execute_reply": "2022-03-22T05:02:17.578321Z"
        },
        "trusted": true,
        "id": "im3iJe_EYzL7"
      },
      "execution_count": null,
      "outputs": []
    },
    {
      "cell_type": "code",
      "source": [
        "data_hidden.head()"
      ],
      "metadata": {
        "execution": {
          "iopub.status.busy": "2022-03-22T05:02:29.063985Z",
          "iopub.execute_input": "2022-03-22T05:02:29.064303Z",
          "iopub.status.idle": "2022-03-22T05:02:29.100842Z",
          "shell.execute_reply.started": "2022-03-22T05:02:29.064271Z",
          "shell.execute_reply": "2022-03-22T05:02:29.099831Z"
        },
        "trusted": true,
        "id": "B-DkCqgBYzL7"
      },
      "execution_count": null,
      "outputs": []
    },
    {
      "cell_type": "markdown",
      "source": [
        "Аналогично поступим с размерами, возьмем следующую линейку размеров:\n",
        "* XXS,\n",
        "* XS,\n",
        "* S,\n",
        "* M,\n",
        "* L,\n",
        "* XL,\n",
        "* XXL"
      ],
      "metadata": {
        "id": "pd2yTsifYzL7"
      }
    },
    {
      "cell_type": "code",
      "source": [
        "possible_sizes = ['XXS', 'XS', 'S', 'M', 'L', 'XL', 'XXL']\n",
        "\n",
        "for s in possible_sizes:\n",
        "    data_hidden[s] = data_hidden['avSizes'].apply(lambda x: re.search(s, x) is not None).astype(int)"
      ],
      "metadata": {
        "execution": {
          "iopub.status.busy": "2022-03-22T05:07:48.671024Z",
          "iopub.execute_input": "2022-03-22T05:07:48.671371Z",
          "iopub.status.idle": "2022-03-22T05:07:48.747482Z",
          "shell.execute_reply.started": "2022-03-22T05:07:48.671337Z",
          "shell.execute_reply": "2022-03-22T05:07:48.746617Z"
        },
        "trusted": true,
        "id": "F8pC6SOWYzL8"
      },
      "execution_count": null,
      "outputs": []
    },
    {
      "cell_type": "code",
      "source": [
        "data_hidden.head()"
      ],
      "metadata": {
        "execution": {
          "iopub.status.busy": "2022-03-22T05:07:58.350362Z",
          "iopub.execute_input": "2022-03-22T05:07:58.350656Z",
          "iopub.status.idle": "2022-03-22T05:07:58.376446Z",
          "shell.execute_reply.started": "2022-03-22T05:07:58.350623Z",
          "shell.execute_reply": "2022-03-22T05:07:58.375866Z"
        },
        "trusted": true,
        "id": "GtaSA3EUYzL8"
      },
      "execution_count": null,
      "outputs": []
    },
    {
      "cell_type": "markdown",
      "source": [
        "Теперь полностью избавляемся от текста, нормализуем признаки"
      ],
      "metadata": {
        "id": "SD_YwWk2YzL8"
      }
    },
    {
      "cell_type": "code",
      "source": [
        "data_hidden.drop(columns=['ffcollection', 'avSizes'], inplace=True)\n",
        "\n",
        "scaler = ss()\n",
        "scaled_data = scaler.fit_transform(data_hidden)"
      ],
      "metadata": {
        "execution": {
          "iopub.status.busy": "2022-03-22T05:13:55.528278Z",
          "iopub.execute_input": "2022-03-22T05:13:55.528601Z",
          "iopub.status.idle": "2022-03-22T05:13:55.701265Z",
          "shell.execute_reply.started": "2022-03-22T05:13:55.528570Z",
          "shell.execute_reply": "2022-03-22T05:13:55.700077Z"
        },
        "trusted": true,
        "id": "I1yXzQVeYzL9"
      },
      "execution_count": null,
      "outputs": []
    },
    {
      "cell_type": "markdown",
      "source": [
        "Дальше в дело вступает метод главных компонент для того, что снизить размерность."
      ],
      "metadata": {
        "id": "SS9xIa96YzL9"
      }
    },
    {
      "cell_type": "code",
      "source": [
        "pca = PCA(n_components='mle', svd_solver='full', random_state=306)\n",
        "pca.fit_transform(scaled_data)"
      ],
      "metadata": {
        "execution": {
          "iopub.status.busy": "2022-03-22T05:30:43.647111Z",
          "iopub.execute_input": "2022-03-22T05:30:43.647972Z",
          "iopub.status.idle": "2022-03-22T05:33:57.542400Z",
          "shell.execute_reply.started": "2022-03-22T05:30:43.647927Z",
          "shell.execute_reply": "2022-03-22T05:33:57.541558Z"
        },
        "trusted": true,
        "id": "el0fhnL8YzL9"
      },
      "execution_count": null,
      "outputs": []
    },
    {
      "cell_type": "code",
      "source": [
        "to_train = pca.transform(scaled_data)\n",
        "\n",
        "to_train.shape"
      ],
      "metadata": {
        "execution": {
          "iopub.status.busy": "2022-03-22T05:34:48.886302Z",
          "iopub.execute_input": "2022-03-22T05:34:48.887089Z",
          "iopub.status.idle": "2022-03-22T05:34:49.031279Z",
          "shell.execute_reply.started": "2022-03-22T05:34:48.887035Z",
          "shell.execute_reply": "2022-03-22T05:34:49.030347Z"
        },
        "trusted": true,
        "id": "Jlr21JpzYzL9"
      },
      "execution_count": null,
      "outputs": []
    },
    {
      "cell_type": "markdown",
      "source": [
        "## Обучение модели"
      ],
      "metadata": {
        "id": "yeEimwZuYzL9"
      }
    },
    {
      "cell_type": "markdown",
      "source": [
        "Теперь мы готовы к обучению модели"
      ],
      "metadata": {
        "id": "kr42_X_GYzL9"
      }
    },
    {
      "cell_type": "code",
      "source": [
        "scan = DBSCAN(metric='minkowski', p=3)\n",
        "\n",
        "res1 = scan.fit_predict(to_train)"
      ],
      "metadata": {
        "execution": {
          "iopub.status.busy": "2022-03-22T06:10:54.958242Z",
          "iopub.execute_input": "2022-03-22T06:10:54.958554Z",
          "iopub.status.idle": "2022-03-22T06:16:21.394899Z",
          "shell.execute_reply.started": "2022-03-22T06:10:54.958520Z",
          "shell.execute_reply": "2022-03-22T06:16:21.393941Z"
        },
        "trusted": true,
        "id": "Oxk6WJIpYzL9"
      },
      "execution_count": null,
      "outputs": []
    },
    {
      "cell_type": "code",
      "source": [
        "km = KMeans(n_clusters=60, n_init=50, random_state=306)\n",
        "\n",
        "res2 = km.fit_predict(to_train)"
      ],
      "metadata": {
        "execution": {
          "iopub.status.busy": "2022-03-22T06:16:21.568188Z",
          "iopub.execute_input": "2022-03-22T06:16:21.568747Z",
          "iopub.status.idle": "2022-03-22T06:18:56.002465Z",
          "shell.execute_reply.started": "2022-03-22T06:16:21.568674Z",
          "shell.execute_reply": "2022-03-22T06:18:56.001734Z"
        },
        "trusted": true,
        "id": "506tzUEMYzL9"
      },
      "execution_count": null,
      "outputs": []
    },
    {
      "cell_type": "code",
      "source": [
        "# sns.countplot(res1)\n",
        "sns.countplot(res2)"
      ],
      "metadata": {
        "execution": {
          "iopub.status.busy": "2022-03-22T06:21:36.025032Z",
          "iopub.execute_input": "2022-03-22T06:21:36.025439Z",
          "iopub.status.idle": "2022-03-22T06:21:37.091809Z",
          "shell.execute_reply.started": "2022-03-22T06:21:36.025398Z",
          "shell.execute_reply": "2022-03-22T06:21:37.091046Z"
        },
        "trusted": true,
        "id": "IdApO4xRYzL-"
      },
      "execution_count": null,
      "outputs": []
    },
    {
      "cell_type": "code",
      "source": [
        "features = pd.DataFrame(to_train)\n",
        "\n",
        "features['target'] = res2"
      ],
      "metadata": {
        "execution": {
          "iopub.status.busy": "2022-03-22T06:29:51.183651Z",
          "iopub.execute_input": "2022-03-22T06:29:51.184344Z",
          "iopub.status.idle": "2022-03-22T06:29:51.194338Z",
          "shell.execute_reply.started": "2022-03-22T06:29:51.184288Z",
          "shell.execute_reply": "2022-03-22T06:29:51.192911Z"
        },
        "trusted": true,
        "id": "LdhpDRwqYzL-"
      },
      "execution_count": null,
      "outputs": []
    },
    {
      "cell_type": "markdown",
      "source": [
        "## Сохраняем данные"
      ],
      "metadata": {
        "id": "-z6nkYZDYzL-"
      }
    },
    {
      "cell_type": "code",
      "source": [
        "features.to_csv('classified_data.csv', index=False)"
      ],
      "metadata": {
        "execution": {
          "iopub.status.busy": "2022-03-22T06:33:41.219437Z",
          "iopub.execute_input": "2022-03-22T06:33:41.219778Z",
          "iopub.status.idle": "2022-03-22T06:33:49.768288Z",
          "shell.execute_reply.started": "2022-03-22T06:33:41.219744Z",
          "shell.execute_reply": "2022-03-22T06:33:49.767198Z"
        },
        "trusted": true,
        "id": "1c0PS_LkYzL-"
      },
      "execution_count": null,
      "outputs": []
    },
    {
      "cell_type": "markdown",
      "source": [
        "## Обучим тут сразу же классификатор"
      ],
      "metadata": {
        "id": "V6ar5CsWYzL-"
      }
    },
    {
      "cell_type": "code",
      "source": [
        "to_drop = features['target'].value_counts()[features['target'].value_counts() <= 10].index\n",
        "features.drop(index=features[features['target'].apply(lambda x: x in to_drop)].index, inplace=True)"
      ],
      "metadata": {
        "id": "Lk89GJTHiJAI"
      },
      "execution_count": 35,
      "outputs": []
    },
    {
      "cell_type": "code",
      "source": [
        "clf = CatBoostClassifier(use_best_model=True, iterations=200)\n",
        "\n",
        "X_train, X_test, y_train, y_test = train_test_split(features.drop(columns='target'), features['target'], random_state=306, test_size=0.2)"
      ],
      "metadata": {
        "execution": {
          "iopub.status.busy": "2022-03-22T06:49:33.124969Z",
          "iopub.execute_input": "2022-03-22T06:49:33.126088Z",
          "iopub.status.idle": "2022-03-22T06:49:33.155245Z",
          "shell.execute_reply.started": "2022-03-22T06:49:33.126046Z",
          "shell.execute_reply": "2022-03-22T06:49:33.154256Z"
        },
        "trusted": true,
        "id": "iKqkfIRFYzL_"
      },
      "execution_count": 44,
      "outputs": []
    },
    {
      "cell_type": "code",
      "source": [
        "clf.fit(X_train, y_train, eval_set=(X_test, y_test))"
      ],
      "metadata": {
        "execution": {
          "iopub.status.busy": "2022-03-22T06:50:19.137220Z",
          "iopub.execute_input": "2022-03-22T06:50:19.137528Z",
          "iopub.status.idle": "2022-03-22T06:50:19.489524Z",
          "shell.execute_reply.started": "2022-03-22T06:50:19.137494Z",
          "shell.execute_reply": "2022-03-22T06:50:19.488159Z"
        },
        "trusted": true,
        "colab": {
          "base_uri": "https://localhost:8080/",
          "height": 1000,
          "referenced_widgets": [
            "ad5e6a71e9fa438a99db1b73294bd13b"
          ]
        },
        "id": "1np18N0EYzL_",
        "outputId": "aebc4be6-455f-43ce-ec68-ef9518f127f9"
      },
      "execution_count": 45,
      "outputs": [
        {
          "output_type": "display_data",
          "data": {
            "text/plain": [
              "MetricVisualizer(layout=Layout(align_self='stretch', height='500px'))"
            ],
            "application/vnd.jupyter.widget-view+json": {
              "version_major": 2,
              "version_minor": 0,
              "model_id": "ad5e6a71e9fa438a99db1b73294bd13b"
            }
          },
          "metadata": {}
        },
        {
          "output_type": "stream",
          "name": "stdout",
          "text": [
            "Learning rate set to 0.206276\n",
            "0:\tlearn: 2.6373360\ttest: 2.6480743\tbest: 2.6480743 (0)\ttotal: 8.96s\tremaining: 29m 42s\n",
            "1:\tlearn: 2.1785937\ttest: 2.1946797\tbest: 2.1946797 (1)\ttotal: 13.5s\tremaining: 22m 20s\n",
            "2:\tlearn: 1.8475393\ttest: 1.8704847\tbest: 1.8704847 (2)\ttotal: 18.1s\tremaining: 19m 48s\n",
            "3:\tlearn: 1.6189682\ttest: 1.6513293\tbest: 1.6513293 (3)\ttotal: 22.6s\tremaining: 18m 27s\n",
            "4:\tlearn: 1.4366517\ttest: 1.4748098\tbest: 1.4748098 (4)\ttotal: 27.2s\tremaining: 17m 39s\n",
            "5:\tlearn: 1.3045564\ttest: 1.3483767\tbest: 1.3483767 (5)\ttotal: 31.7s\tremaining: 17m 5s\n",
            "6:\tlearn: 1.1983307\ttest: 1.2481502\tbest: 1.2481502 (6)\ttotal: 36.2s\tremaining: 16m 37s\n",
            "7:\tlearn: 1.1196649\ttest: 1.1759458\tbest: 1.1759458 (7)\ttotal: 40.7s\tremaining: 16m 15s\n",
            "8:\tlearn: 1.0354394\ttest: 1.1004652\tbest: 1.1004652 (8)\ttotal: 45.1s\tremaining: 15m 57s\n",
            "9:\tlearn: 0.9673464\ttest: 1.0381715\tbest: 1.0381715 (9)\ttotal: 49.6s\tremaining: 15m 42s\n",
            "10:\tlearn: 0.9232051\ttest: 1.0001172\tbest: 1.0001172 (10)\ttotal: 54.1s\tremaining: 15m 28s\n",
            "11:\tlearn: 0.8775831\ttest: 0.9573433\tbest: 0.9573433 (11)\ttotal: 58.5s\tremaining: 15m 15s\n",
            "12:\tlearn: 0.8261306\ttest: 0.9103016\tbest: 0.9103016 (12)\ttotal: 1m 2s\tremaining: 15m 3s\n",
            "13:\tlearn: 0.8021931\ttest: 0.8908614\tbest: 0.8908614 (13)\ttotal: 1m 7s\tremaining: 14m 52s\n",
            "14:\tlearn: 0.7625545\ttest: 0.8552310\tbest: 0.8552310 (14)\ttotal: 1m 11s\tremaining: 14m 44s\n",
            "15:\tlearn: 0.7191559\ttest: 0.8144687\tbest: 0.8144687 (15)\ttotal: 1m 16s\tremaining: 14m 37s\n",
            "16:\tlearn: 0.6800783\ttest: 0.7779302\tbest: 0.7779302 (16)\ttotal: 1m 20s\tremaining: 14m 30s\n",
            "17:\tlearn: 0.6680062\ttest: 0.7714506\tbest: 0.7714506 (17)\ttotal: 1m 25s\tremaining: 14m 21s\n",
            "18:\tlearn: 0.6424171\ttest: 0.7500402\tbest: 0.7500402 (18)\ttotal: 1m 29s\tremaining: 14m 14s\n",
            "19:\tlearn: 0.6187507\ttest: 0.7267648\tbest: 0.7267648 (19)\ttotal: 1m 34s\tremaining: 14m 6s\n",
            "20:\tlearn: 0.6009439\ttest: 0.7122641\tbest: 0.7122641 (20)\ttotal: 1m 38s\tremaining: 14m\n",
            "21:\tlearn: 0.5946269\ttest: 0.7104083\tbest: 0.7104083 (21)\ttotal: 1m 42s\tremaining: 13m 52s\n",
            "22:\tlearn: 0.5896483\ttest: 0.7101284\tbest: 0.7101284 (22)\ttotal: 1m 47s\tremaining: 13m 46s\n",
            "23:\tlearn: 0.5807239\ttest: 0.7069944\tbest: 0.7069944 (23)\ttotal: 1m 51s\tremaining: 13m 41s\n",
            "24:\tlearn: 0.5703604\ttest: 0.7019874\tbest: 0.7019874 (24)\ttotal: 1m 56s\tremaining: 13m 38s\n",
            "25:\tlearn: 0.5628723\ttest: 0.6976803\tbest: 0.6976803 (25)\ttotal: 2m 1s\tremaining: 13m 31s\n",
            "26:\tlearn: 0.5479502\ttest: 0.6841862\tbest: 0.6841862 (26)\ttotal: 2m 5s\tremaining: 13m 25s\n",
            "27:\tlearn: 0.5361863\ttest: 0.6742999\tbest: 0.6742999 (27)\ttotal: 2m 10s\tremaining: 13m 18s\n",
            "28:\tlearn: 0.5300663\ttest: 0.6728635\tbest: 0.6728635 (28)\ttotal: 2m 14s\tremaining: 13m 12s\n",
            "29:\tlearn: 0.5154754\ttest: 0.6620671\tbest: 0.6620671 (29)\ttotal: 2m 19s\tremaining: 13m 7s\n",
            "30:\tlearn: 0.5100305\ttest: 0.6620270\tbest: 0.6620270 (30)\ttotal: 2m 23s\tremaining: 13m 1s\n",
            "31:\tlearn: 0.4988391\ttest: 0.6524721\tbest: 0.6524721 (31)\ttotal: 2m 27s\tremaining: 12m 55s\n",
            "32:\tlearn: 0.4850827\ttest: 0.6426118\tbest: 0.6426118 (32)\ttotal: 2m 32s\tremaining: 12m 50s\n",
            "33:\tlearn: 0.4804492\ttest: 0.6399334\tbest: 0.6399334 (33)\ttotal: 2m 36s\tremaining: 12m 43s\n",
            "34:\tlearn: 0.4633810\ttest: 0.6239260\tbest: 0.6239260 (34)\ttotal: 2m 40s\tremaining: 12m 37s\n",
            "35:\tlearn: 0.4518953\ttest: 0.6111963\tbest: 0.6111963 (35)\ttotal: 2m 45s\tremaining: 12m 31s\n",
            "36:\tlearn: 0.4427442\ttest: 0.6041293\tbest: 0.6041293 (36)\ttotal: 2m 49s\tremaining: 12m 26s\n",
            "37:\tlearn: 0.4371486\ttest: 0.6016780\tbest: 0.6016780 (37)\ttotal: 2m 53s\tremaining: 12m 21s\n",
            "38:\tlearn: 0.4261090\ttest: 0.5914293\tbest: 0.5914293 (38)\ttotal: 2m 58s\tremaining: 12m 16s\n",
            "39:\tlearn: 0.4170181\ttest: 0.5848695\tbest: 0.5848695 (39)\ttotal: 3m 2s\tremaining: 12m 11s\n",
            "40:\tlearn: 0.4069408\ttest: 0.5763035\tbest: 0.5763035 (40)\ttotal: 3m 7s\tremaining: 12m 6s\n",
            "41:\tlearn: 0.3908198\ttest: 0.5607549\tbest: 0.5607549 (41)\ttotal: 3m 11s\tremaining: 12m 1s\n",
            "42:\tlearn: 0.3830581\ttest: 0.5524580\tbest: 0.5524580 (42)\ttotal: 3m 16s\tremaining: 11m 56s\n",
            "43:\tlearn: 0.3746189\ttest: 0.5458867\tbest: 0.5458867 (43)\ttotal: 3m 20s\tremaining: 11m 50s\n",
            "44:\tlearn: 0.3710001\ttest: 0.5454187\tbest: 0.5454187 (44)\ttotal: 3m 24s\tremaining: 11m 45s\n",
            "45:\tlearn: 0.3610445\ttest: 0.5362651\tbest: 0.5362651 (45)\ttotal: 3m 29s\tremaining: 11m 40s\n",
            "46:\tlearn: 0.3549199\ttest: 0.5295014\tbest: 0.5295014 (46)\ttotal: 3m 33s\tremaining: 11m 34s\n",
            "47:\tlearn: 0.3491303\ttest: 0.5232045\tbest: 0.5232045 (47)\ttotal: 3m 37s\tremaining: 11m 29s\n",
            "48:\tlearn: 0.3424397\ttest: 0.5158959\tbest: 0.5158959 (48)\ttotal: 3m 42s\tremaining: 11m 24s\n",
            "49:\tlearn: 0.3365888\ttest: 0.5096911\tbest: 0.5096911 (49)\ttotal: 3m 46s\tremaining: 11m 19s\n",
            "50:\tlearn: 0.3325345\ttest: 0.5052862\tbest: 0.5052862 (50)\ttotal: 3m 50s\tremaining: 11m 14s\n",
            "51:\tlearn: 0.3258420\ttest: 0.5011045\tbest: 0.5011045 (51)\ttotal: 3m 55s\tremaining: 11m 9s\n",
            "52:\tlearn: 0.3160032\ttest: 0.4922360\tbest: 0.4922360 (52)\ttotal: 3m 59s\tremaining: 11m 4s\n",
            "53:\tlearn: 0.3143629\ttest: 0.4913321\tbest: 0.4913321 (53)\ttotal: 4m 4s\tremaining: 10m 59s\n",
            "54:\tlearn: 0.3070519\ttest: 0.4834853\tbest: 0.4834853 (54)\ttotal: 4m 8s\tremaining: 10m 54s\n",
            "55:\tlearn: 0.3046996\ttest: 0.4815576\tbest: 0.4815576 (55)\ttotal: 4m 12s\tremaining: 10m 49s\n",
            "56:\tlearn: 0.2972216\ttest: 0.4744029\tbest: 0.4744029 (56)\ttotal: 4m 17s\tremaining: 10m 44s\n",
            "57:\tlearn: 0.2901837\ttest: 0.4677255\tbest: 0.4677255 (57)\ttotal: 4m 21s\tremaining: 10m 39s\n",
            "58:\tlearn: 0.2855925\ttest: 0.4647177\tbest: 0.4647177 (58)\ttotal: 4m 25s\tremaining: 10m 35s\n",
            "59:\tlearn: 0.2800944\ttest: 0.4586645\tbest: 0.4586645 (59)\ttotal: 4m 30s\tremaining: 10m 30s\n",
            "60:\tlearn: 0.2745099\ttest: 0.4520802\tbest: 0.4520802 (60)\ttotal: 4m 34s\tremaining: 10m 25s\n",
            "61:\tlearn: 0.2717575\ttest: 0.4491159\tbest: 0.4491159 (61)\ttotal: 4m 38s\tremaining: 10m 20s\n",
            "62:\tlearn: 0.2689641\ttest: 0.4471685\tbest: 0.4471685 (62)\ttotal: 4m 43s\tremaining: 10m 15s\n",
            "63:\tlearn: 0.2653365\ttest: 0.4448021\tbest: 0.4448021 (63)\ttotal: 4m 47s\tremaining: 10m 11s\n",
            "64:\tlearn: 0.2594118\ttest: 0.4393678\tbest: 0.4393678 (64)\ttotal: 4m 52s\tremaining: 10m 6s\n",
            "65:\tlearn: 0.2542056\ttest: 0.4345976\tbest: 0.4345976 (65)\ttotal: 4m 56s\tremaining: 10m 1s\n",
            "66:\tlearn: 0.2530565\ttest: 0.4341527\tbest: 0.4341527 (66)\ttotal: 5m\tremaining: 9m 57s\n",
            "67:\tlearn: 0.2490689\ttest: 0.4320913\tbest: 0.4320913 (67)\ttotal: 5m 5s\tremaining: 9m 52s\n",
            "68:\tlearn: 0.2450314\ttest: 0.4279950\tbest: 0.4279950 (68)\ttotal: 5m 9s\tremaining: 9m 47s\n",
            "69:\tlearn: 0.2420237\ttest: 0.4249617\tbest: 0.4249617 (69)\ttotal: 5m 13s\tremaining: 9m 42s\n",
            "70:\tlearn: 0.2403094\ttest: 0.4241876\tbest: 0.4241876 (70)\ttotal: 5m 18s\tremaining: 9m 38s\n",
            "71:\tlearn: 0.2385715\ttest: 0.4223810\tbest: 0.4223810 (71)\ttotal: 5m 23s\tremaining: 9m 34s\n",
            "72:\tlearn: 0.2368364\ttest: 0.4214556\tbest: 0.4214556 (72)\ttotal: 5m 27s\tremaining: 9m 29s\n",
            "73:\tlearn: 0.2361597\ttest: 0.4212604\tbest: 0.4212604 (73)\ttotal: 5m 31s\tremaining: 9m 25s\n",
            "74:\tlearn: 0.2333676\ttest: 0.4197134\tbest: 0.4197134 (74)\ttotal: 5m 36s\tremaining: 9m 20s\n",
            "75:\tlearn: 0.2317683\ttest: 0.4181241\tbest: 0.4181241 (75)\ttotal: 5m 40s\tremaining: 9m 15s\n",
            "76:\tlearn: 0.2286084\ttest: 0.4155793\tbest: 0.4155793 (76)\ttotal: 5m 45s\tremaining: 9m 11s\n",
            "77:\tlearn: 0.2244812\ttest: 0.4124865\tbest: 0.4124865 (77)\ttotal: 5m 49s\tremaining: 9m 6s\n",
            "78:\tlearn: 0.2219225\ttest: 0.4112733\tbest: 0.4112733 (78)\ttotal: 5m 53s\tremaining: 9m 2s\n",
            "79:\tlearn: 0.2192037\ttest: 0.4092264\tbest: 0.4092264 (79)\ttotal: 5m 58s\tremaining: 8m 57s\n",
            "80:\tlearn: 0.2186662\ttest: 0.4090145\tbest: 0.4090145 (80)\ttotal: 6m 2s\tremaining: 8m 52s\n",
            "81:\tlearn: 0.2151771\ttest: 0.4056242\tbest: 0.4056242 (81)\ttotal: 6m 6s\tremaining: 8m 47s\n",
            "82:\tlearn: 0.2123428\ttest: 0.4028262\tbest: 0.4028262 (82)\ttotal: 6m 11s\tremaining: 8m 43s\n",
            "83:\tlearn: 0.2110886\ttest: 0.4021477\tbest: 0.4021477 (83)\ttotal: 6m 15s\tremaining: 8m 39s\n",
            "84:\tlearn: 0.2084550\ttest: 0.3995346\tbest: 0.3995346 (84)\ttotal: 6m 20s\tremaining: 8m 34s\n",
            "85:\tlearn: 0.2068834\ttest: 0.3986210\tbest: 0.3986210 (85)\ttotal: 6m 24s\tremaining: 8m 29s\n",
            "86:\tlearn: 0.2065192\ttest: 0.3986123\tbest: 0.3986123 (86)\ttotal: 6m 28s\tremaining: 8m 25s\n",
            "87:\tlearn: 0.2056546\ttest: 0.3985100\tbest: 0.3985100 (87)\ttotal: 6m 35s\tremaining: 8m 23s\n",
            "88:\tlearn: 0.2050534\ttest: 0.3983413\tbest: 0.3983413 (88)\ttotal: 6m 41s\tremaining: 8m 21s\n",
            "89:\tlearn: 0.2032666\ttest: 0.3972764\tbest: 0.3972764 (89)\ttotal: 6m 47s\tremaining: 8m 18s\n",
            "90:\tlearn: 0.2023257\ttest: 0.3971158\tbest: 0.3971158 (90)\ttotal: 6m 52s\tremaining: 8m 13s\n",
            "91:\tlearn: 0.2008051\ttest: 0.3963373\tbest: 0.3963373 (91)\ttotal: 6m 56s\tremaining: 8m 8s\n",
            "92:\tlearn: 0.2000458\ttest: 0.3965530\tbest: 0.3963373 (91)\ttotal: 7m\tremaining: 8m 3s\n",
            "93:\tlearn: 0.1983015\ttest: 0.3953383\tbest: 0.3953383 (93)\ttotal: 7m 4s\tremaining: 7m 59s\n",
            "94:\tlearn: 0.1965438\ttest: 0.3946320\tbest: 0.3946320 (94)\ttotal: 7m 9s\tremaining: 7m 54s\n",
            "95:\tlearn: 0.1953639\ttest: 0.3940627\tbest: 0.3940627 (95)\ttotal: 7m 13s\tremaining: 7m 49s\n",
            "96:\tlearn: 0.1926705\ttest: 0.3913142\tbest: 0.3913142 (96)\ttotal: 7m 17s\tremaining: 7m 44s\n",
            "97:\tlearn: 0.1909784\ttest: 0.3905439\tbest: 0.3905439 (97)\ttotal: 7m 21s\tremaining: 7m 40s\n",
            "98:\tlearn: 0.1890359\ttest: 0.3900213\tbest: 0.3900213 (98)\ttotal: 7m 26s\tremaining: 7m 35s\n",
            "99:\tlearn: 0.1877528\ttest: 0.3884587\tbest: 0.3884587 (99)\ttotal: 7m 30s\tremaining: 7m 30s\n",
            "100:\tlearn: 0.1870390\ttest: 0.3878521\tbest: 0.3878521 (100)\ttotal: 7m 34s\tremaining: 7m 25s\n",
            "101:\tlearn: 0.1864595\ttest: 0.3875909\tbest: 0.3875909 (101)\ttotal: 7m 39s\tremaining: 7m 21s\n",
            "102:\tlearn: 0.1851582\ttest: 0.3860298\tbest: 0.3860298 (102)\ttotal: 7m 43s\tremaining: 7m 16s\n",
            "103:\tlearn: 0.1839049\ttest: 0.3853658\tbest: 0.3853658 (103)\ttotal: 7m 47s\tremaining: 7m 11s\n",
            "104:\tlearn: 0.1835085\ttest: 0.3852244\tbest: 0.3852244 (104)\ttotal: 7m 52s\tremaining: 7m 7s\n",
            "105:\tlearn: 0.1827320\ttest: 0.3849853\tbest: 0.3849853 (105)\ttotal: 7m 56s\tremaining: 7m 2s\n",
            "106:\tlearn: 0.1812154\ttest: 0.3839805\tbest: 0.3839805 (106)\ttotal: 8m\tremaining: 6m 57s\n",
            "107:\tlearn: 0.1796261\ttest: 0.3826038\tbest: 0.3826038 (107)\ttotal: 8m 4s\tremaining: 6m 52s\n",
            "108:\tlearn: 0.1788030\ttest: 0.3818762\tbest: 0.3818762 (108)\ttotal: 8m 9s\tremaining: 6m 48s\n",
            "109:\tlearn: 0.1777131\ttest: 0.3817416\tbest: 0.3817416 (109)\ttotal: 8m 13s\tremaining: 6m 43s\n",
            "110:\tlearn: 0.1769496\ttest: 0.3812533\tbest: 0.3812533 (110)\ttotal: 8m 17s\tremaining: 6m 38s\n",
            "111:\tlearn: 0.1762161\ttest: 0.3806336\tbest: 0.3806336 (111)\ttotal: 8m 21s\tremaining: 6m 34s\n",
            "112:\tlearn: 0.1741234\ttest: 0.3781516\tbest: 0.3781516 (112)\ttotal: 8m 25s\tremaining: 6m 29s\n",
            "113:\tlearn: 0.1731045\ttest: 0.3771805\tbest: 0.3771805 (113)\ttotal: 8m 30s\tremaining: 6m 24s\n",
            "114:\tlearn: 0.1726087\ttest: 0.3769674\tbest: 0.3769674 (114)\ttotal: 8m 34s\tremaining: 6m 20s\n",
            "115:\tlearn: 0.1708626\ttest: 0.3755046\tbest: 0.3755046 (115)\ttotal: 8m 38s\tremaining: 6m 15s\n",
            "116:\tlearn: 0.1699434\ttest: 0.3745224\tbest: 0.3745224 (116)\ttotal: 8m 42s\tremaining: 6m 10s\n",
            "117:\tlearn: 0.1686187\ttest: 0.3729715\tbest: 0.3729715 (117)\ttotal: 8m 47s\tremaining: 6m 6s\n",
            "118:\tlearn: 0.1683396\ttest: 0.3728381\tbest: 0.3728381 (118)\ttotal: 8m 51s\tremaining: 6m 1s\n",
            "119:\tlearn: 0.1678893\ttest: 0.3726367\tbest: 0.3726367 (119)\ttotal: 8m 55s\tremaining: 5m 57s\n",
            "120:\tlearn: 0.1667888\ttest: 0.3719553\tbest: 0.3719553 (120)\ttotal: 8m 59s\tremaining: 5m 52s\n",
            "121:\tlearn: 0.1659634\ttest: 0.3722430\tbest: 0.3719553 (120)\ttotal: 9m 4s\tremaining: 5m 47s\n",
            "122:\tlearn: 0.1644988\ttest: 0.3716052\tbest: 0.3716052 (122)\ttotal: 9m 8s\tremaining: 5m 43s\n",
            "123:\tlearn: 0.1640027\ttest: 0.3715984\tbest: 0.3715984 (123)\ttotal: 9m 12s\tremaining: 5m 38s\n",
            "124:\tlearn: 0.1628414\ttest: 0.3716583\tbest: 0.3715984 (123)\ttotal: 9m 16s\tremaining: 5m 34s\n",
            "125:\tlearn: 0.1618268\ttest: 0.3709851\tbest: 0.3709851 (125)\ttotal: 9m 21s\tremaining: 5m 29s\n",
            "126:\tlearn: 0.1610070\ttest: 0.3702579\tbest: 0.3702579 (126)\ttotal: 9m 25s\tremaining: 5m 24s\n",
            "127:\tlearn: 0.1600012\ttest: 0.3697942\tbest: 0.3697942 (127)\ttotal: 9m 29s\tremaining: 5m 20s\n",
            "128:\tlearn: 0.1596739\ttest: 0.3698975\tbest: 0.3697942 (127)\ttotal: 9m 33s\tremaining: 5m 15s\n",
            "129:\tlearn: 0.1590349\ttest: 0.3698330\tbest: 0.3697942 (127)\ttotal: 9m 38s\tremaining: 5m 11s\n",
            "130:\tlearn: 0.1577196\ttest: 0.3687525\tbest: 0.3687525 (130)\ttotal: 9m 42s\tremaining: 5m 6s\n",
            "131:\tlearn: 0.1571647\ttest: 0.3683302\tbest: 0.3683302 (131)\ttotal: 9m 46s\tremaining: 5m 2s\n",
            "132:\tlearn: 0.1564797\ttest: 0.3680711\tbest: 0.3680711 (132)\ttotal: 9m 50s\tremaining: 4m 57s\n",
            "133:\tlearn: 0.1543967\ttest: 0.3659606\tbest: 0.3659606 (133)\ttotal: 9m 54s\tremaining: 4m 53s\n",
            "134:\tlearn: 0.1533228\ttest: 0.3657471\tbest: 0.3657471 (134)\ttotal: 9m 59s\tremaining: 4m 48s\n",
            "135:\tlearn: 0.1527610\ttest: 0.3654093\tbest: 0.3654093 (135)\ttotal: 10m 3s\tremaining: 4m 43s\n",
            "136:\tlearn: 0.1506014\ttest: 0.3635894\tbest: 0.3635894 (136)\ttotal: 10m 7s\tremaining: 4m 39s\n",
            "137:\tlearn: 0.1496770\ttest: 0.3631530\tbest: 0.3631530 (137)\ttotal: 10m 11s\tremaining: 4m 34s\n",
            "138:\tlearn: 0.1485976\ttest: 0.3622478\tbest: 0.3622478 (138)\ttotal: 10m 16s\tremaining: 4m 30s\n",
            "139:\tlearn: 0.1480681\ttest: 0.3614261\tbest: 0.3614261 (139)\ttotal: 10m 20s\tremaining: 4m 25s\n",
            "140:\tlearn: 0.1470577\ttest: 0.3607369\tbest: 0.3607369 (140)\ttotal: 10m 24s\tremaining: 4m 21s\n",
            "141:\tlearn: 0.1459174\ttest: 0.3604014\tbest: 0.3604014 (141)\ttotal: 10m 28s\tremaining: 4m 16s\n",
            "142:\tlearn: 0.1456539\ttest: 0.3602586\tbest: 0.3602586 (142)\ttotal: 10m 33s\tremaining: 4m 12s\n",
            "143:\tlearn: 0.1449925\ttest: 0.3600814\tbest: 0.3600814 (143)\ttotal: 10m 37s\tremaining: 4m 7s\n",
            "144:\tlearn: 0.1447330\ttest: 0.3601754\tbest: 0.3600814 (143)\ttotal: 10m 41s\tremaining: 4m 3s\n",
            "145:\tlearn: 0.1438578\ttest: 0.3598559\tbest: 0.3598559 (145)\ttotal: 10m 45s\tremaining: 3m 58s\n",
            "146:\tlearn: 0.1425051\ttest: 0.3584409\tbest: 0.3584409 (146)\ttotal: 10m 50s\tremaining: 3m 54s\n",
            "147:\tlearn: 0.1420237\ttest: 0.3582643\tbest: 0.3582643 (147)\ttotal: 10m 54s\tremaining: 3m 49s\n",
            "148:\tlearn: 0.1415487\ttest: 0.3581298\tbest: 0.3581298 (148)\ttotal: 10m 58s\tremaining: 3m 45s\n",
            "149:\tlearn: 0.1409852\ttest: 0.3576076\tbest: 0.3576076 (149)\ttotal: 11m 2s\tremaining: 3m 40s\n",
            "150:\tlearn: 0.1399139\ttest: 0.3568703\tbest: 0.3568703 (150)\ttotal: 11m 6s\tremaining: 3m 36s\n",
            "151:\tlearn: 0.1384669\ttest: 0.3557963\tbest: 0.3557963 (151)\ttotal: 11m 11s\tremaining: 3m 31s\n",
            "152:\tlearn: 0.1380265\ttest: 0.3555498\tbest: 0.3555498 (152)\ttotal: 11m 15s\tremaining: 3m 27s\n",
            "153:\tlearn: 0.1372581\ttest: 0.3552145\tbest: 0.3552145 (153)\ttotal: 11m 19s\tremaining: 3m 22s\n",
            "154:\tlearn: 0.1359080\ttest: 0.3542576\tbest: 0.3542576 (154)\ttotal: 11m 23s\tremaining: 3m 18s\n",
            "155:\tlearn: 0.1346230\ttest: 0.3529519\tbest: 0.3529519 (155)\ttotal: 11m 27s\tremaining: 3m 14s\n",
            "156:\tlearn: 0.1335056\ttest: 0.3522819\tbest: 0.3522819 (156)\ttotal: 11m 32s\tremaining: 3m 9s\n",
            "157:\tlearn: 0.1323538\ttest: 0.3515080\tbest: 0.3515080 (157)\ttotal: 11m 36s\tremaining: 3m 5s\n",
            "158:\tlearn: 0.1315674\ttest: 0.3503610\tbest: 0.3503610 (158)\ttotal: 11m 40s\tremaining: 3m\n",
            "159:\tlearn: 0.1306634\ttest: 0.3498917\tbest: 0.3498917 (159)\ttotal: 11m 45s\tremaining: 2m 56s\n",
            "160:\tlearn: 0.1297336\ttest: 0.3492548\tbest: 0.3492548 (160)\ttotal: 11m 49s\tremaining: 2m 51s\n",
            "161:\tlearn: 0.1287578\ttest: 0.3487361\tbest: 0.3487361 (161)\ttotal: 11m 53s\tremaining: 2m 47s\n",
            "162:\tlearn: 0.1285355\ttest: 0.3485744\tbest: 0.3485744 (162)\ttotal: 11m 57s\tremaining: 2m 42s\n",
            "163:\tlearn: 0.1277221\ttest: 0.3487337\tbest: 0.3485744 (162)\ttotal: 12m 1s\tremaining: 2m 38s\n",
            "164:\tlearn: 0.1275718\ttest: 0.3487700\tbest: 0.3485744 (162)\ttotal: 12m 6s\tremaining: 2m 34s\n",
            "165:\tlearn: 0.1273520\ttest: 0.3486470\tbest: 0.3485744 (162)\ttotal: 12m 10s\tremaining: 2m 29s\n",
            "166:\tlearn: 0.1267796\ttest: 0.3483666\tbest: 0.3483666 (166)\ttotal: 12m 14s\tremaining: 2m 25s\n",
            "167:\tlearn: 0.1264837\ttest: 0.3485917\tbest: 0.3483666 (166)\ttotal: 12m 18s\tremaining: 2m 20s\n",
            "168:\tlearn: 0.1262924\ttest: 0.3485663\tbest: 0.3483666 (166)\ttotal: 12m 22s\tremaining: 2m 16s\n",
            "169:\tlearn: 0.1255556\ttest: 0.3481279\tbest: 0.3481279 (169)\ttotal: 12m 27s\tremaining: 2m 11s\n",
            "170:\tlearn: 0.1241115\ttest: 0.3466242\tbest: 0.3466242 (170)\ttotal: 12m 31s\tremaining: 2m 7s\n",
            "171:\tlearn: 0.1238475\ttest: 0.3464464\tbest: 0.3464464 (171)\ttotal: 12m 35s\tremaining: 2m 3s\n",
            "172:\tlearn: 0.1233126\ttest: 0.3462160\tbest: 0.3462160 (172)\ttotal: 12m 40s\tremaining: 1m 58s\n",
            "173:\tlearn: 0.1219012\ttest: 0.3446004\tbest: 0.3446004 (173)\ttotal: 12m 44s\tremaining: 1m 54s\n",
            "174:\tlearn: 0.1213431\ttest: 0.3439046\tbest: 0.3439046 (174)\ttotal: 12m 48s\tremaining: 1m 49s\n",
            "175:\tlearn: 0.1207823\ttest: 0.3432267\tbest: 0.3432267 (175)\ttotal: 12m 52s\tremaining: 1m 45s\n",
            "176:\tlearn: 0.1205818\ttest: 0.3432368\tbest: 0.3432267 (175)\ttotal: 12m 57s\tremaining: 1m 40s\n",
            "177:\tlearn: 0.1194108\ttest: 0.3422342\tbest: 0.3422342 (177)\ttotal: 13m 1s\tremaining: 1m 36s\n",
            "178:\tlearn: 0.1176690\ttest: 0.3397757\tbest: 0.3397757 (178)\ttotal: 13m 5s\tremaining: 1m 32s\n",
            "179:\tlearn: 0.1168257\ttest: 0.3393794\tbest: 0.3393794 (179)\ttotal: 13m 10s\tremaining: 1m 27s\n",
            "180:\tlearn: 0.1163362\ttest: 0.3391824\tbest: 0.3391824 (180)\ttotal: 13m 14s\tremaining: 1m 23s\n",
            "181:\tlearn: 0.1161812\ttest: 0.3391725\tbest: 0.3391725 (181)\ttotal: 13m 18s\tremaining: 1m 18s\n",
            "182:\tlearn: 0.1155503\ttest: 0.3387851\tbest: 0.3387851 (182)\ttotal: 13m 22s\tremaining: 1m 14s\n",
            "183:\tlearn: 0.1145172\ttest: 0.3383002\tbest: 0.3383002 (183)\ttotal: 13m 26s\tremaining: 1m 10s\n",
            "184:\tlearn: 0.1138740\ttest: 0.3375067\tbest: 0.3375067 (184)\ttotal: 13m 31s\tremaining: 1m 5s\n",
            "185:\tlearn: 0.1133981\ttest: 0.3371991\tbest: 0.3371991 (185)\ttotal: 13m 35s\tremaining: 1m 1s\n",
            "186:\tlearn: 0.1130490\ttest: 0.3373529\tbest: 0.3371991 (185)\ttotal: 13m 39s\tremaining: 57s\n",
            "187:\tlearn: 0.1126508\ttest: 0.3373727\tbest: 0.3371991 (185)\ttotal: 13m 43s\tremaining: 52.6s\n",
            "188:\tlearn: 0.1122907\ttest: 0.3371568\tbest: 0.3371568 (188)\ttotal: 13m 47s\tremaining: 48.2s\n",
            "189:\tlearn: 0.1111464\ttest: 0.3357820\tbest: 0.3357820 (189)\ttotal: 13m 52s\tremaining: 43.8s\n",
            "190:\tlearn: 0.1109607\ttest: 0.3358013\tbest: 0.3357820 (189)\ttotal: 13m 56s\tremaining: 39.4s\n",
            "191:\tlearn: 0.1102332\ttest: 0.3351475\tbest: 0.3351475 (191)\ttotal: 14m\tremaining: 35s\n",
            "192:\tlearn: 0.1097246\ttest: 0.3351157\tbest: 0.3351157 (192)\ttotal: 14m 4s\tremaining: 30.6s\n",
            "193:\tlearn: 0.1089260\ttest: 0.3340642\tbest: 0.3340642 (193)\ttotal: 14m 9s\tremaining: 26.3s\n",
            "194:\tlearn: 0.1086817\ttest: 0.3337554\tbest: 0.3337554 (194)\ttotal: 14m 13s\tremaining: 21.9s\n",
            "195:\tlearn: 0.1073056\ttest: 0.3334901\tbest: 0.3334901 (195)\ttotal: 14m 17s\tremaining: 17.5s\n",
            "196:\tlearn: 0.1067285\ttest: 0.3328137\tbest: 0.3328137 (196)\ttotal: 14m 22s\tremaining: 13.1s\n",
            "197:\tlearn: 0.1060026\ttest: 0.3323942\tbest: 0.3323942 (197)\ttotal: 14m 26s\tremaining: 8.75s\n",
            "198:\tlearn: 0.1053176\ttest: 0.3317690\tbest: 0.3317690 (198)\ttotal: 14m 30s\tremaining: 4.37s\n",
            "199:\tlearn: 0.1045804\ttest: 0.3311843\tbest: 0.3311843 (199)\ttotal: 14m 34s\tremaining: 0us\n",
            "\n",
            "bestTest = 0.3311842863\n",
            "bestIteration = 199\n",
            "\n"
          ]
        },
        {
          "output_type": "execute_result",
          "data": {
            "text/plain": [
              "<catboost.core.CatBoostClassifier at 0x7f02b79ff350>"
            ]
          },
          "metadata": {},
          "execution_count": 45
        }
      ]
    },
    {
      "cell_type": "code",
      "source": [
        "y_pred = clf.predict(X_test)\n",
        "\n",
        "print(classification_report(y_test, y_pred))"
      ],
      "metadata": {
        "colab": {
          "base_uri": "https://localhost:8080/"
        },
        "id": "JoGFW-qWbbQI",
        "outputId": "1b07533b-f7ae-46e7-fa0d-a6c3a693bbc8"
      },
      "execution_count": 46,
      "outputs": [
        {
          "output_type": "stream",
          "name": "stdout",
          "text": [
            "              precision    recall  f1-score   support\n",
            "\n",
            "           0       0.73      0.79      0.76        14\n",
            "           1       0.92      0.93      0.92        71\n",
            "           2       0.99      0.99      0.99        92\n",
            "           4       0.90      0.82      0.86        11\n",
            "           6       0.77      0.86      0.81        51\n",
            "           8       0.94      0.89      0.92        19\n",
            "           9       0.91      0.90      0.91        59\n",
            "          10       0.85      0.92      0.89        51\n",
            "          11       0.94      0.73      0.82        44\n",
            "          12       0.85      0.92      0.88        62\n",
            "          13       0.91      0.86      0.88        69\n",
            "          14       1.00      0.83      0.91        18\n",
            "          20       0.76      0.79      0.77        28\n",
            "          23       0.83      1.00      0.91         5\n",
            "          24       0.86      0.91      0.89        34\n",
            "          25       0.94      0.86      0.90        35\n",
            "          27       0.80      0.95      0.87        21\n",
            "          28       0.85      0.95      0.90        73\n",
            "          31       0.00      0.00      0.00         5\n",
            "          33       0.93      0.84      0.88        44\n",
            "          34       0.90      0.94      0.92        48\n",
            "          35       0.81      0.81      0.81        21\n",
            "          36       1.00      0.50      0.67         6\n",
            "          38       0.91      0.84      0.87        57\n",
            "          40       0.95      0.83      0.88        23\n",
            "          44       0.87      0.94      0.90        49\n",
            "          45       0.86      0.92      0.89        59\n",
            "          49       0.90      0.90      0.90        20\n",
            "          52       0.96      0.88      0.92        51\n",
            "          56       0.75      0.50      0.60         6\n",
            "          57       0.96      0.92      0.94        26\n",
            "          58       0.90      0.93      0.91        46\n",
            "          59       0.84      0.90      0.87        52\n",
            "\n",
            "    accuracy                           0.89      1270\n",
            "   macro avg       0.86      0.83      0.84      1270\n",
            "weighted avg       0.89      0.89      0.89      1270\n",
            "\n"
          ]
        },
        {
          "output_type": "stream",
          "name": "stderr",
          "text": [
            "/usr/local/lib/python3.7/dist-packages/sklearn/metrics/_classification.py:1318: UndefinedMetricWarning: Precision and F-score are ill-defined and being set to 0.0 in labels with no predicted samples. Use `zero_division` parameter to control this behavior.\n",
            "  _warn_prf(average, modifier, msg_start, len(result))\n",
            "/usr/local/lib/python3.7/dist-packages/sklearn/metrics/_classification.py:1318: UndefinedMetricWarning: Precision and F-score are ill-defined and being set to 0.0 in labels with no predicted samples. Use `zero_division` parameter to control this behavior.\n",
            "  _warn_prf(average, modifier, msg_start, len(result))\n",
            "/usr/local/lib/python3.7/dist-packages/sklearn/metrics/_classification.py:1318: UndefinedMetricWarning: Precision and F-score are ill-defined and being set to 0.0 in labels with no predicted samples. Use `zero_division` parameter to control this behavior.\n",
            "  _warn_prf(average, modifier, msg_start, len(result))\n"
          ]
        }
      ]
    },
    {
      "cell_type": "code",
      "source": [
        "clf.save_model('best_classifier_ever')"
      ],
      "metadata": {
        "id": "XfqoOx4Vb7-b"
      },
      "execution_count": 47,
      "outputs": []
    }
  ]
}